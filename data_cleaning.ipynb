{
 "cells": [
  {
   "cell_type": "code",
   "execution_count": 1,
   "metadata": {},
   "outputs": [],
   "source": [
    "#Data cleaning, transformation and visualization -> trying couple models"
   ]
  },
  {
   "cell_type": "code",
   "execution_count": 2,
   "metadata": {},
   "outputs": [],
   "source": [
    "import pandas as pd\n",
    "import statistics as stat\n",
    "from pandas import read_csv\n",
    "from matplotlib import pyplot\n",
    "\n",
    "from sklearn.preprocessing import MinMaxScaler\n",
    "from sklearn.preprocessing import LabelEncoder\n",
    "\n",
    "from sklearn.model_selection import train_test_split\n",
    "\n",
    "from sklearn.tree import DecisionTreeClassifier\n",
    "from sklearn.neighbors import KNeighborsClassifier\n",
    "\n",
    "from sklearn.metrics import confusion_matrix"
   ]
  },
  {
   "cell_type": "code",
   "execution_count": 3,
   "metadata": {},
   "outputs": [
    {
     "data": {
      "text/html": [
       "<div>\n",
       "<style scoped>\n",
       "    .dataframe tbody tr th:only-of-type {\n",
       "        vertical-align: middle;\n",
       "    }\n",
       "\n",
       "    .dataframe tbody tr th {\n",
       "        vertical-align: top;\n",
       "    }\n",
       "\n",
       "    .dataframe thead th {\n",
       "        text-align: right;\n",
       "    }\n",
       "</style>\n",
       "<table border=\"1\" class=\"dataframe\">\n",
       "  <thead>\n",
       "    <tr style=\"text-align: right;\">\n",
       "      <th></th>\n",
       "      <th>cust</th>\n",
       "      <th>segment</th>\n",
       "      <th>vertical</th>\n",
       "      <th>sub_vertical</th>\n",
       "      <th>country</th>\n",
       "      <th>bookings</th>\n",
       "      <th>purchase</th>\n",
       "    </tr>\n",
       "  </thead>\n",
       "  <tbody>\n",
       "    <tr>\n",
       "      <th>0</th>\n",
       "      <td>d66648938c68318a8dad17a77f0c8327</td>\n",
       "      <td>Commercial</td>\n",
       "      <td>Manufacturing</td>\n",
       "      <td>Hi-tech/Computers Manufacturing</td>\n",
       "      <td>UNITED STATES</td>\n",
       "      <td>103356</td>\n",
       "      <td>False</td>\n",
       "    </tr>\n",
       "    <tr>\n",
       "      <th>1</th>\n",
       "      <td>dcce1fa11f27a6a2c57c8aacf5f0219c</td>\n",
       "      <td>Commercial</td>\n",
       "      <td>Retail</td>\n",
       "      <td>Other (Retail)</td>\n",
       "      <td>UNITED STATES</td>\n",
       "      <td>62952</td>\n",
       "      <td>True</td>\n",
       "    </tr>\n",
       "    <tr>\n",
       "      <th>2</th>\n",
       "      <td>136b88d1b2aea8ae74cbfe111830af69</td>\n",
       "      <td>Commercial</td>\n",
       "      <td>Retail</td>\n",
       "      <td>Other (Retail)</td>\n",
       "      <td>ITALY</td>\n",
       "      <td>2886</td>\n",
       "      <td>True</td>\n",
       "    </tr>\n",
       "    <tr>\n",
       "      <th>3</th>\n",
       "      <td>674c6fcb90b5d29765f266007ad423e1</td>\n",
       "      <td>Enterprise</td>\n",
       "      <td>Retail</td>\n",
       "      <td>Other (Retail)</td>\n",
       "      <td>UNITED STATES</td>\n",
       "      <td>80253</td>\n",
       "      <td>True</td>\n",
       "    </tr>\n",
       "    <tr>\n",
       "      <th>4</th>\n",
       "      <td>97c72b3833ce8ef5154826fc128522b1</td>\n",
       "      <td>Commercial</td>\n",
       "      <td>Health Care</td>\n",
       "      <td>Providers</td>\n",
       "      <td>AUSTRALIA</td>\n",
       "      <td>29424</td>\n",
       "      <td>False</td>\n",
       "    </tr>\n",
       "    <tr>\n",
       "      <th>...</th>\n",
       "      <td>...</td>\n",
       "      <td>...</td>\n",
       "      <td>...</td>\n",
       "      <td>...</td>\n",
       "      <td>...</td>\n",
       "      <td>...</td>\n",
       "      <td>...</td>\n",
       "    </tr>\n",
       "    <tr>\n",
       "      <th>27338</th>\n",
       "      <td>d95a7c1779b6165d0302e8e191243239</td>\n",
       "      <td>Enterprise</td>\n",
       "      <td>Professional Services</td>\n",
       "      <td>Construction/Engineering</td>\n",
       "      <td>UNITED STATES</td>\n",
       "      <td>4142</td>\n",
       "      <td>True</td>\n",
       "    </tr>\n",
       "    <tr>\n",
       "      <th>27339</th>\n",
       "      <td>24113cecc9177b25a3d22c84f9d6ceec</td>\n",
       "      <td>Enterprise</td>\n",
       "      <td>Government</td>\n",
       "      <td>Federal/Central Government</td>\n",
       "      <td>CHINA</td>\n",
       "      <td>6233</td>\n",
       "      <td>False</td>\n",
       "    </tr>\n",
       "    <tr>\n",
       "      <th>27340</th>\n",
       "      <td>c082a0889baf15ce697b044914e3ed44</td>\n",
       "      <td>Enterprise</td>\n",
       "      <td>Manufacturing</td>\n",
       "      <td>Discrete Manufacturing</td>\n",
       "      <td>UNITED STATES</td>\n",
       "      <td>4003</td>\n",
       "      <td>False</td>\n",
       "    </tr>\n",
       "    <tr>\n",
       "      <th>27341</th>\n",
       "      <td>9a28b51f3f5d510a98c8b92446ea9a00</td>\n",
       "      <td>Commercial</td>\n",
       "      <td>Retail</td>\n",
       "      <td>Consumer Services(dry cleaners,video rental,etc)</td>\n",
       "      <td>UNITED STATES</td>\n",
       "      <td>1471</td>\n",
       "      <td>True</td>\n",
       "    </tr>\n",
       "    <tr>\n",
       "      <th>27342</th>\n",
       "      <td>a1425017639d721a421664ade535853c</td>\n",
       "      <td>Enterprise</td>\n",
       "      <td>Government</td>\n",
       "      <td>Federal/Central Government</td>\n",
       "      <td>JAPAN</td>\n",
       "      <td>33835</td>\n",
       "      <td>False</td>\n",
       "    </tr>\n",
       "  </tbody>\n",
       "</table>\n",
       "<p>27343 rows × 7 columns</p>\n",
       "</div>"
      ],
      "text/plain": [
       "                                   cust     segment               vertical  \\\n",
       "0      d66648938c68318a8dad17a77f0c8327  Commercial          Manufacturing   \n",
       "1      dcce1fa11f27a6a2c57c8aacf5f0219c  Commercial                 Retail   \n",
       "2      136b88d1b2aea8ae74cbfe111830af69  Commercial                 Retail   \n",
       "3      674c6fcb90b5d29765f266007ad423e1  Enterprise                 Retail   \n",
       "4      97c72b3833ce8ef5154826fc128522b1  Commercial            Health Care   \n",
       "...                                 ...         ...                    ...   \n",
       "27338  d95a7c1779b6165d0302e8e191243239  Enterprise  Professional Services   \n",
       "27339  24113cecc9177b25a3d22c84f9d6ceec  Enterprise             Government   \n",
       "27340  c082a0889baf15ce697b044914e3ed44  Enterprise          Manufacturing   \n",
       "27341  9a28b51f3f5d510a98c8b92446ea9a00  Commercial                 Retail   \n",
       "27342  a1425017639d721a421664ade535853c  Enterprise             Government   \n",
       "\n",
       "                                           sub_vertical        country  \\\n",
       "0                       Hi-tech/Computers Manufacturing  UNITED STATES   \n",
       "1                                        Other (Retail)  UNITED STATES   \n",
       "2                                        Other (Retail)          ITALY   \n",
       "3                                        Other (Retail)  UNITED STATES   \n",
       "4                                             Providers      AUSTRALIA   \n",
       "...                                                 ...            ...   \n",
       "27338                          Construction/Engineering  UNITED STATES   \n",
       "27339                        Federal/Central Government          CHINA   \n",
       "27340                            Discrete Manufacturing  UNITED STATES   \n",
       "27341  Consumer Services(dry cleaners,video rental,etc)  UNITED STATES   \n",
       "27342                        Federal/Central Government          JAPAN   \n",
       "\n",
       "      bookings  purchase  \n",
       "0       103356     False  \n",
       "1        62952      True  \n",
       "2         2886      True  \n",
       "3        80253      True  \n",
       "4        29424     False  \n",
       "...        ...       ...  \n",
       "27338     4142      True  \n",
       "27339     6233     False  \n",
       "27340     4003     False  \n",
       "27341     1471      True  \n",
       "27342    33835     False  \n",
       "\n",
       "[27343 rows x 7 columns]"
      ]
     },
     "execution_count": 3,
     "metadata": {},
     "output_type": "execute_result"
    }
   ],
   "source": [
    "#Reading raw data\n",
    "file = 'dnac-customer-bookings.csv'\n",
    "data = pd.read_csv(file, sep=',', header=0, parse_dates=True)\n",
    "data"
   ]
  },
  {
   "cell_type": "code",
   "execution_count": 4,
   "metadata": {},
   "outputs": [
    {
     "data": {
      "text/plain": [
       "count                                27343\n",
       "unique                               27343\n",
       "top       3c01a3925f8d0d4c6f0a8bd535c75a2d\n",
       "freq                                     1\n",
       "Name: cust, dtype: object"
      ]
     },
     "execution_count": 4,
     "metadata": {},
     "output_type": "execute_result"
    }
   ],
   "source": [
    "data[\"cust\"].describe()"
   ]
  },
  {
   "cell_type": "code",
   "execution_count": 5,
   "metadata": {},
   "outputs": [
    {
     "data": {
      "text/plain": [
       "count          27343\n",
       "unique             5\n",
       "top       Enterprise\n",
       "freq           16623\n",
       "Name: segment, dtype: object"
      ]
     },
     "execution_count": 5,
     "metadata": {},
     "output_type": "execute_result"
    }
   ],
   "source": [
    "data[\"segment\"].describe()"
   ]
  },
  {
   "cell_type": "code",
   "execution_count": 6,
   "metadata": {},
   "outputs": [
    {
     "data": {
      "text/plain": [
       "count                     27343\n",
       "unique                        8\n",
       "top       Professional Services\n",
       "freq                       5553\n",
       "Name: vertical, dtype: object"
      ]
     },
     "execution_count": 6,
     "metadata": {},
     "output_type": "execute_result"
    }
   ],
   "source": [
    "data[\"vertical\"].describe()"
   ]
  },
  {
   "cell_type": "code",
   "execution_count": 7,
   "metadata": {},
   "outputs": [
    {
     "data": {
      "text/plain": [
       "count                          27343\n",
       "unique                            15\n",
       "top       Federal/Central Government\n",
       "freq                            3559\n",
       "Name: sub_vertical, dtype: object"
      ]
     },
     "execution_count": 7,
     "metadata": {},
     "output_type": "execute_result"
    }
   ],
   "source": [
    "data[\"sub_vertical\"].describe()"
   ]
  },
  {
   "cell_type": "code",
   "execution_count": 8,
   "metadata": {},
   "outputs": [
    {
     "data": {
      "text/plain": [
       "count             27343\n",
       "unique               14\n",
       "top       UNITED STATES\n",
       "freq              13810\n",
       "Name: country, dtype: object"
      ]
     },
     "execution_count": 8,
     "metadata": {},
     "output_type": "execute_result"
    }
   ],
   "source": [
    "data[\"country\"].describe()"
   ]
  },
  {
   "cell_type": "code",
   "execution_count": 9,
   "metadata": {},
   "outputs": [
    {
     "data": {
      "text/plain": [
       "count       27343\n",
       "unique      22474\n",
       "top       unknown\n",
       "freq           73\n",
       "Name: bookings, dtype: object"
      ]
     },
     "execution_count": 9,
     "metadata": {},
     "output_type": "execute_result"
    }
   ],
   "source": [
    "data[\"bookings\"].describe()"
   ]
  },
  {
   "cell_type": "code",
   "execution_count": 10,
   "metadata": {},
   "outputs": [
    {
     "data": {
      "text/html": [
       "<div>\n",
       "<style scoped>\n",
       "    .dataframe tbody tr th:only-of-type {\n",
       "        vertical-align: middle;\n",
       "    }\n",
       "\n",
       "    .dataframe tbody tr th {\n",
       "        vertical-align: top;\n",
       "    }\n",
       "\n",
       "    .dataframe thead th {\n",
       "        text-align: right;\n",
       "    }\n",
       "</style>\n",
       "<table border=\"1\" class=\"dataframe\">\n",
       "  <thead>\n",
       "    <tr style=\"text-align: right;\">\n",
       "      <th></th>\n",
       "      <th>vertical</th>\n",
       "      <th>sub_vertical</th>\n",
       "      <th>country</th>\n",
       "      <th>purchase</th>\n",
       "    </tr>\n",
       "  </thead>\n",
       "  <tbody>\n",
       "    <tr>\n",
       "      <th>0</th>\n",
       "      <td>12</td>\n",
       "      <td>6</td>\n",
       "      <td>UNITED STATES</td>\n",
       "      <td>0</td>\n",
       "    </tr>\n",
       "    <tr>\n",
       "      <th>1</th>\n",
       "      <td>12</td>\n",
       "      <td>10</td>\n",
       "      <td>UNITED STATES</td>\n",
       "      <td>1</td>\n",
       "    </tr>\n",
       "    <tr>\n",
       "      <th>2</th>\n",
       "      <td>8</td>\n",
       "      <td>10</td>\n",
       "      <td>ITALY</td>\n",
       "      <td>1</td>\n",
       "    </tr>\n",
       "    <tr>\n",
       "      <th>3</th>\n",
       "      <td>12</td>\n",
       "      <td>10</td>\n",
       "      <td>UNITED STATES</td>\n",
       "      <td>1</td>\n",
       "    </tr>\n",
       "    <tr>\n",
       "      <th>4</th>\n",
       "      <td>0</td>\n",
       "      <td>12</td>\n",
       "      <td>AUSTRALIA</td>\n",
       "      <td>0</td>\n",
       "    </tr>\n",
       "    <tr>\n",
       "      <th>...</th>\n",
       "      <td>...</td>\n",
       "      <td>...</td>\n",
       "      <td>...</td>\n",
       "      <td>...</td>\n",
       "    </tr>\n",
       "    <tr>\n",
       "      <th>27338</th>\n",
       "      <td>12</td>\n",
       "      <td>0</td>\n",
       "      <td>UNITED STATES</td>\n",
       "      <td>1</td>\n",
       "    </tr>\n",
       "    <tr>\n",
       "      <th>27339</th>\n",
       "      <td>3</td>\n",
       "      <td>5</td>\n",
       "      <td>CHINA</td>\n",
       "      <td>0</td>\n",
       "    </tr>\n",
       "    <tr>\n",
       "      <th>27340</th>\n",
       "      <td>12</td>\n",
       "      <td>4</td>\n",
       "      <td>UNITED STATES</td>\n",
       "      <td>0</td>\n",
       "    </tr>\n",
       "    <tr>\n",
       "      <th>27341</th>\n",
       "      <td>12</td>\n",
       "      <td>3</td>\n",
       "      <td>UNITED STATES</td>\n",
       "      <td>1</td>\n",
       "    </tr>\n",
       "    <tr>\n",
       "      <th>27342</th>\n",
       "      <td>9</td>\n",
       "      <td>5</td>\n",
       "      <td>JAPAN</td>\n",
       "      <td>0</td>\n",
       "    </tr>\n",
       "  </tbody>\n",
       "</table>\n",
       "<p>27343 rows × 4 columns</p>\n",
       "</div>"
      ],
      "text/plain": [
       "       vertical  sub_vertical        country  purchase\n",
       "0            12             6  UNITED STATES         0\n",
       "1            12            10  UNITED STATES         1\n",
       "2             8            10          ITALY         1\n",
       "3            12            10  UNITED STATES         1\n",
       "4             0            12      AUSTRALIA         0\n",
       "...         ...           ...            ...       ...\n",
       "27338        12             0  UNITED STATES         1\n",
       "27339         3             5          CHINA         0\n",
       "27340        12             4  UNITED STATES         0\n",
       "27341        12             3  UNITED STATES         1\n",
       "27342         9             5          JAPAN         0\n",
       "\n",
       "[27343 rows x 4 columns]"
      ]
     },
     "execution_count": 10,
     "metadata": {},
     "output_type": "execute_result"
    }
   ],
   "source": [
    "#Removing \"cust\" column as unique in each row, removing \"segment\" column as redundant, removing \"bookings\" column which has too many unique values\n",
    "#Encoding \"vertical, \"sub_vertical\" and \"purchase\" columns\n",
    "data = data.drop(\"cust\", axis=1)\n",
    "data = data.drop(\"segment\", axis=1)\n",
    "data = data.drop(\"bookings\", axis=1)\n",
    "\n",
    "data[\"sub_vertical\"] = data[\"sub_vertical\"].astype(\"category\")\n",
    "sub_vertical_encode = LabelEncoder()\n",
    "data[\"sub_vertical\"] = sub_vertical_encode.fit_transform(data.sub_vertical)\n",
    "data[\"purchase\"] = data[\"purchase\"].astype(\"category\")\n",
    "purchase_encode = LabelEncoder()\n",
    "data[\"purchase\"] = purchase_encode.fit_transform(data.purchase)\n",
    "data[\"vertical\"] = data[\"vertical\"].astype(\"category\")\n",
    "country_encode = LabelEncoder()\n",
    "data[\"vertical\"] = country_encode.fit_transform(data.country)\n",
    "\n",
    "data"
   ]
  },
  {
   "cell_type": "code",
   "execution_count": 11,
   "metadata": {},
   "outputs": [
    {
     "data": {
      "text/plain": [
       "UNITED STATES     13810\n",
       "UNITED KINGDOM     2246\n",
       "CHINA              1836\n",
       "GERMANY            1683\n",
       "CANADA             1277\n",
       "JAPAN              1228\n",
       "AUSTRALIA          1183\n",
       "FRANCE              983\n",
       "ITALY               787\n",
       "MEXICO              733\n",
       "INDIA               705\n",
       "BRAZIL              451\n",
       "USA                 347\n",
       "DEUTSCHLAND          74\n",
       "Name: country, dtype: int64"
      ]
     },
     "execution_count": 11,
     "metadata": {},
     "output_type": "execute_result"
    }
   ],
   "source": [
    "#Checking \"country\" column\n",
    "data[\"country\"].value_counts()"
   ]
  },
  {
   "cell_type": "code",
   "execution_count": 12,
   "metadata": {},
   "outputs": [
    {
     "data": {
      "text/html": [
       "<div>\n",
       "<style scoped>\n",
       "    .dataframe tbody tr th:only-of-type {\n",
       "        vertical-align: middle;\n",
       "    }\n",
       "\n",
       "    .dataframe tbody tr th {\n",
       "        vertical-align: top;\n",
       "    }\n",
       "\n",
       "    .dataframe thead th {\n",
       "        text-align: right;\n",
       "    }\n",
       "</style>\n",
       "<table border=\"1\" class=\"dataframe\">\n",
       "  <thead>\n",
       "    <tr style=\"text-align: right;\">\n",
       "      <th></th>\n",
       "      <th>vertical</th>\n",
       "      <th>sub_vertical</th>\n",
       "      <th>country</th>\n",
       "      <th>purchase</th>\n",
       "    </tr>\n",
       "  </thead>\n",
       "  <tbody>\n",
       "    <tr>\n",
       "      <th>0</th>\n",
       "      <td>12</td>\n",
       "      <td>6</td>\n",
       "      <td>UNITED STATES</td>\n",
       "      <td>0</td>\n",
       "    </tr>\n",
       "    <tr>\n",
       "      <th>1</th>\n",
       "      <td>12</td>\n",
       "      <td>10</td>\n",
       "      <td>UNITED STATES</td>\n",
       "      <td>1</td>\n",
       "    </tr>\n",
       "    <tr>\n",
       "      <th>2</th>\n",
       "      <td>8</td>\n",
       "      <td>10</td>\n",
       "      <td>ITALY</td>\n",
       "      <td>1</td>\n",
       "    </tr>\n",
       "    <tr>\n",
       "      <th>3</th>\n",
       "      <td>12</td>\n",
       "      <td>10</td>\n",
       "      <td>UNITED STATES</td>\n",
       "      <td>1</td>\n",
       "    </tr>\n",
       "    <tr>\n",
       "      <th>4</th>\n",
       "      <td>0</td>\n",
       "      <td>12</td>\n",
       "      <td>AUSTRALIA</td>\n",
       "      <td>0</td>\n",
       "    </tr>\n",
       "    <tr>\n",
       "      <th>...</th>\n",
       "      <td>...</td>\n",
       "      <td>...</td>\n",
       "      <td>...</td>\n",
       "      <td>...</td>\n",
       "    </tr>\n",
       "    <tr>\n",
       "      <th>27338</th>\n",
       "      <td>12</td>\n",
       "      <td>0</td>\n",
       "      <td>UNITED STATES</td>\n",
       "      <td>1</td>\n",
       "    </tr>\n",
       "    <tr>\n",
       "      <th>27339</th>\n",
       "      <td>3</td>\n",
       "      <td>5</td>\n",
       "      <td>CHINA</td>\n",
       "      <td>0</td>\n",
       "    </tr>\n",
       "    <tr>\n",
       "      <th>27340</th>\n",
       "      <td>12</td>\n",
       "      <td>4</td>\n",
       "      <td>UNITED STATES</td>\n",
       "      <td>0</td>\n",
       "    </tr>\n",
       "    <tr>\n",
       "      <th>27341</th>\n",
       "      <td>12</td>\n",
       "      <td>3</td>\n",
       "      <td>UNITED STATES</td>\n",
       "      <td>1</td>\n",
       "    </tr>\n",
       "    <tr>\n",
       "      <th>27342</th>\n",
       "      <td>9</td>\n",
       "      <td>5</td>\n",
       "      <td>JAPAN</td>\n",
       "      <td>0</td>\n",
       "    </tr>\n",
       "  </tbody>\n",
       "</table>\n",
       "<p>27343 rows × 4 columns</p>\n",
       "</div>"
      ],
      "text/plain": [
       "       vertical  sub_vertical        country  purchase\n",
       "0            12             6  UNITED STATES         0\n",
       "1            12            10  UNITED STATES         1\n",
       "2             8            10          ITALY         1\n",
       "3            12            10  UNITED STATES         1\n",
       "4             0            12      AUSTRALIA         0\n",
       "...         ...           ...            ...       ...\n",
       "27338        12             0  UNITED STATES         1\n",
       "27339         3             5          CHINA         0\n",
       "27340        12             4  UNITED STATES         0\n",
       "27341        12             3  UNITED STATES         1\n",
       "27342         9             5          JAPAN         0\n",
       "\n",
       "[27343 rows x 4 columns]"
      ]
     },
     "execution_count": 12,
     "metadata": {},
     "output_type": "execute_result"
    }
   ],
   "source": [
    "#Fixing different names for the same country\n",
    "def fix(column):\n",
    "    results = {}\n",
    "    results['column'] = column.name\n",
    "\n",
    "    #Replacing different names for the same country\n",
    "    country_column = []\n",
    "    for value in column:\n",
    "        if value == \"USA\":\n",
    "            country_column.append(\"UNITED STATES\")\n",
    "        elif value == \"DEUTSCHLAND\":\n",
    "            country_column.append(\"GERMANY\")\n",
    "        else:\n",
    "            country_column.append(value)\n",
    "\n",
    "    #Creating new column data with 'fixed' entries\n",
    "    results['data'] = country_column\n",
    "\n",
    "    return results  \n",
    "\n",
    "#Replacing data with new value\n",
    "temp_data = data.apply(fix)\n",
    "for m in temp_data:\n",
    "    data[m['column']] = m['data']"
   ]
  },
  {
   "cell_type": "code",
   "execution_count": 13,
   "metadata": {},
   "outputs": [
    {
     "data": {
      "text/html": [
       "<div>\n",
       "<style scoped>\n",
       "    .dataframe tbody tr th:only-of-type {\n",
       "        vertical-align: middle;\n",
       "    }\n",
       "\n",
       "    .dataframe tbody tr th {\n",
       "        vertical-align: top;\n",
       "    }\n",
       "\n",
       "    .dataframe thead th {\n",
       "        text-align: right;\n",
       "    }\n",
       "</style>\n",
       "<table border=\"1\" class=\"dataframe\">\n",
       "  <thead>\n",
       "    <tr style=\"text-align: right;\">\n",
       "      <th></th>\n",
       "      <th>vertical</th>\n",
       "      <th>sub_vertical</th>\n",
       "      <th>country</th>\n",
       "      <th>purchase</th>\n",
       "    </tr>\n",
       "  </thead>\n",
       "  <tbody>\n",
       "    <tr>\n",
       "      <th>0</th>\n",
       "      <td>12</td>\n",
       "      <td>6</td>\n",
       "      <td>11</td>\n",
       "      <td>0</td>\n",
       "    </tr>\n",
       "    <tr>\n",
       "      <th>1</th>\n",
       "      <td>12</td>\n",
       "      <td>10</td>\n",
       "      <td>11</td>\n",
       "      <td>1</td>\n",
       "    </tr>\n",
       "    <tr>\n",
       "      <th>2</th>\n",
       "      <td>8</td>\n",
       "      <td>10</td>\n",
       "      <td>7</td>\n",
       "      <td>1</td>\n",
       "    </tr>\n",
       "    <tr>\n",
       "      <th>3</th>\n",
       "      <td>12</td>\n",
       "      <td>10</td>\n",
       "      <td>11</td>\n",
       "      <td>1</td>\n",
       "    </tr>\n",
       "    <tr>\n",
       "      <th>4</th>\n",
       "      <td>0</td>\n",
       "      <td>12</td>\n",
       "      <td>0</td>\n",
       "      <td>0</td>\n",
       "    </tr>\n",
       "    <tr>\n",
       "      <th>...</th>\n",
       "      <td>...</td>\n",
       "      <td>...</td>\n",
       "      <td>...</td>\n",
       "      <td>...</td>\n",
       "    </tr>\n",
       "    <tr>\n",
       "      <th>27338</th>\n",
       "      <td>12</td>\n",
       "      <td>0</td>\n",
       "      <td>11</td>\n",
       "      <td>1</td>\n",
       "    </tr>\n",
       "    <tr>\n",
       "      <th>27339</th>\n",
       "      <td>3</td>\n",
       "      <td>5</td>\n",
       "      <td>3</td>\n",
       "      <td>0</td>\n",
       "    </tr>\n",
       "    <tr>\n",
       "      <th>27340</th>\n",
       "      <td>12</td>\n",
       "      <td>4</td>\n",
       "      <td>11</td>\n",
       "      <td>0</td>\n",
       "    </tr>\n",
       "    <tr>\n",
       "      <th>27341</th>\n",
       "      <td>12</td>\n",
       "      <td>3</td>\n",
       "      <td>11</td>\n",
       "      <td>1</td>\n",
       "    </tr>\n",
       "    <tr>\n",
       "      <th>27342</th>\n",
       "      <td>9</td>\n",
       "      <td>5</td>\n",
       "      <td>8</td>\n",
       "      <td>0</td>\n",
       "    </tr>\n",
       "  </tbody>\n",
       "</table>\n",
       "<p>27343 rows × 4 columns</p>\n",
       "</div>"
      ],
      "text/plain": [
       "       vertical  sub_vertical  country  purchase\n",
       "0            12             6       11         0\n",
       "1            12            10       11         1\n",
       "2             8            10        7         1\n",
       "3            12            10       11         1\n",
       "4             0            12        0         0\n",
       "...         ...           ...      ...       ...\n",
       "27338        12             0       11         1\n",
       "27339         3             5        3         0\n",
       "27340        12             4       11         0\n",
       "27341        12             3       11         1\n",
       "27342         9             5        8         0\n",
       "\n",
       "[27343 rows x 4 columns]"
      ]
     },
     "execution_count": 13,
     "metadata": {},
     "output_type": "execute_result"
    }
   ],
   "source": [
    "#Encoding \"country\" column \n",
    "data[\"country\"] = data[\"country\"].astype(\"category\")\n",
    "country_encode = LabelEncoder()\n",
    "data[\"country\"] = country_encode.fit_transform(data.country)\n",
    "\n",
    "data"
   ]
  },
  {
   "cell_type": "code",
   "execution_count": 14,
   "metadata": {},
   "outputs": [
    {
     "data": {
      "text/plain": [
       "11    14157\n",
       "10     2246\n",
       "3      1836\n",
       "5      1757\n",
       "2      1277\n",
       "8      1228\n",
       "0      1183\n",
       "4       983\n",
       "7       787\n",
       "9       733\n",
       "6       705\n",
       "1       451\n",
       "Name: country, dtype: int64"
      ]
     },
     "execution_count": 14,
     "metadata": {},
     "output_type": "execute_result"
    }
   ],
   "source": [
    "data[\"country\"].value_counts()"
   ]
  },
  {
   "cell_type": "code",
   "execution_count": 15,
   "metadata": {},
   "outputs": [
    {
     "data": {
      "text/html": [
       "<div>\n",
       "<style scoped>\n",
       "    .dataframe tbody tr th:only-of-type {\n",
       "        vertical-align: middle;\n",
       "    }\n",
       "\n",
       "    .dataframe tbody tr th {\n",
       "        vertical-align: top;\n",
       "    }\n",
       "\n",
       "    .dataframe thead th {\n",
       "        text-align: right;\n",
       "    }\n",
       "</style>\n",
       "<table border=\"1\" class=\"dataframe\">\n",
       "  <thead>\n",
       "    <tr style=\"text-align: right;\">\n",
       "      <th></th>\n",
       "      <th>purchase</th>\n",
       "      <th>country_scaled</th>\n",
       "      <th>vert_scaled</th>\n",
       "      <th>sub_scaled</th>\n",
       "    </tr>\n",
       "  </thead>\n",
       "  <tbody>\n",
       "    <tr>\n",
       "      <th>0</th>\n",
       "      <td>0</td>\n",
       "      <td>1.000000</td>\n",
       "      <td>0.923077</td>\n",
       "      <td>0.428571</td>\n",
       "    </tr>\n",
       "    <tr>\n",
       "      <th>1</th>\n",
       "      <td>1</td>\n",
       "      <td>1.000000</td>\n",
       "      <td>0.923077</td>\n",
       "      <td>0.714286</td>\n",
       "    </tr>\n",
       "    <tr>\n",
       "      <th>2</th>\n",
       "      <td>1</td>\n",
       "      <td>0.636364</td>\n",
       "      <td>0.615385</td>\n",
       "      <td>0.714286</td>\n",
       "    </tr>\n",
       "    <tr>\n",
       "      <th>3</th>\n",
       "      <td>1</td>\n",
       "      <td>1.000000</td>\n",
       "      <td>0.923077</td>\n",
       "      <td>0.714286</td>\n",
       "    </tr>\n",
       "    <tr>\n",
       "      <th>4</th>\n",
       "      <td>0</td>\n",
       "      <td>0.000000</td>\n",
       "      <td>0.000000</td>\n",
       "      <td>0.857143</td>\n",
       "    </tr>\n",
       "    <tr>\n",
       "      <th>...</th>\n",
       "      <td>...</td>\n",
       "      <td>...</td>\n",
       "      <td>...</td>\n",
       "      <td>...</td>\n",
       "    </tr>\n",
       "    <tr>\n",
       "      <th>27338</th>\n",
       "      <td>1</td>\n",
       "      <td>1.000000</td>\n",
       "      <td>0.923077</td>\n",
       "      <td>0.000000</td>\n",
       "    </tr>\n",
       "    <tr>\n",
       "      <th>27339</th>\n",
       "      <td>0</td>\n",
       "      <td>0.272727</td>\n",
       "      <td>0.230769</td>\n",
       "      <td>0.357143</td>\n",
       "    </tr>\n",
       "    <tr>\n",
       "      <th>27340</th>\n",
       "      <td>0</td>\n",
       "      <td>1.000000</td>\n",
       "      <td>0.923077</td>\n",
       "      <td>0.285714</td>\n",
       "    </tr>\n",
       "    <tr>\n",
       "      <th>27341</th>\n",
       "      <td>1</td>\n",
       "      <td>1.000000</td>\n",
       "      <td>0.923077</td>\n",
       "      <td>0.214286</td>\n",
       "    </tr>\n",
       "    <tr>\n",
       "      <th>27342</th>\n",
       "      <td>0</td>\n",
       "      <td>0.727273</td>\n",
       "      <td>0.692308</td>\n",
       "      <td>0.357143</td>\n",
       "    </tr>\n",
       "  </tbody>\n",
       "</table>\n",
       "<p>27343 rows × 4 columns</p>\n",
       "</div>"
      ],
      "text/plain": [
       "       purchase  country_scaled  vert_scaled  sub_scaled\n",
       "0             0        1.000000     0.923077    0.428571\n",
       "1             1        1.000000     0.923077    0.714286\n",
       "2             1        0.636364     0.615385    0.714286\n",
       "3             1        1.000000     0.923077    0.714286\n",
       "4             0        0.000000     0.000000    0.857143\n",
       "...         ...             ...          ...         ...\n",
       "27338         1        1.000000     0.923077    0.000000\n",
       "27339         0        0.272727     0.230769    0.357143\n",
       "27340         0        1.000000     0.923077    0.285714\n",
       "27341         1        1.000000     0.923077    0.214286\n",
       "27342         0        0.727273     0.692308    0.357143\n",
       "\n",
       "[27343 rows x 4 columns]"
      ]
     },
     "execution_count": 15,
     "metadata": {},
     "output_type": "execute_result"
    }
   ],
   "source": [
    "#Scaling all cloumns\n",
    "scaler = MinMaxScaler()\n",
    "\n",
    "data['country_scaled'] = scaler.fit_transform(data['country'].values.reshape(-1,1))\n",
    "data = data.drop(\"country\", axis=1)\n",
    "data['vert_scaled'] = scaler.fit_transform(data['vertical'].values.reshape(-1,1))\n",
    "data = data.drop(\"vertical\", axis=1)\n",
    "data['sub_scaled'] = scaler.fit_transform(data['sub_vertical'].values.reshape(-1,1))\n",
    "data = data.drop(\"sub_vertical\", axis=1)\n",
    "\n",
    "data"
   ]
  },
  {
   "cell_type": "code",
   "execution_count": 16,
   "metadata": {},
   "outputs": [
    {
     "data": {
      "text/plain": [
       "count    27343.000000\n",
       "mean         0.749991\n",
       "std          0.329987\n",
       "min          0.000000\n",
       "25%          0.454545\n",
       "50%          1.000000\n",
       "75%          1.000000\n",
       "max          1.000000\n",
       "Name: country_scaled, dtype: float64"
      ]
     },
     "execution_count": 16,
     "metadata": {},
     "output_type": "execute_result"
    }
   ],
   "source": [
    "data['country_scaled'].describe()"
   ]
  },
  {
   "cell_type": "code",
   "execution_count": 17,
   "metadata": {},
   "outputs": [
    {
     "data": {
      "text/plain": [
       "12"
      ]
     },
     "execution_count": 17,
     "metadata": {},
     "output_type": "execute_result"
    }
   ],
   "source": [
    "len(list(data[\"country_scaled\"].unique()))"
   ]
  },
  {
   "cell_type": "code",
   "execution_count": 18,
   "metadata": {},
   "outputs": [
    {
     "data": {
      "text/plain": [
       "count    27343.000000\n",
       "mean         0.698736\n",
       "std          0.304718\n",
       "min          0.000000\n",
       "25%          0.461538\n",
       "50%          0.923077\n",
       "75%          0.923077\n",
       "max          1.000000\n",
       "Name: vert_scaled, dtype: float64"
      ]
     },
     "execution_count": 18,
     "metadata": {},
     "output_type": "execute_result"
    }
   ],
   "source": [
    "data['vert_scaled'].describe()"
   ]
  },
  {
   "cell_type": "code",
   "execution_count": 19,
   "metadata": {},
   "outputs": [
    {
     "data": {
      "text/plain": [
       "14"
      ]
     },
     "execution_count": 19,
     "metadata": {},
     "output_type": "execute_result"
    }
   ],
   "source": [
    "len(list(data[\"vert_scaled\"].unique()))"
   ]
  },
  {
   "cell_type": "code",
   "execution_count": 20,
   "metadata": {},
   "outputs": [
    {
     "data": {
      "text/plain": [
       "count    27343.000000\n",
       "mean         0.539673\n",
       "std          0.287166\n",
       "min          0.000000\n",
       "25%          0.357143\n",
       "50%          0.571429\n",
       "75%          0.785714\n",
       "max          1.000000\n",
       "Name: sub_scaled, dtype: float64"
      ]
     },
     "execution_count": 20,
     "metadata": {},
     "output_type": "execute_result"
    }
   ],
   "source": [
    "data['sub_scaled'].describe()"
   ]
  },
  {
   "cell_type": "code",
   "execution_count": 21,
   "metadata": {},
   "outputs": [
    {
     "data": {
      "text/plain": [
       "15"
      ]
     },
     "execution_count": 21,
     "metadata": {},
     "output_type": "execute_result"
    }
   ],
   "source": [
    "len(list(data[\"sub_scaled\"].unique()))"
   ]
  },
  {
   "cell_type": "code",
   "execution_count": 22,
   "metadata": {},
   "outputs": [
    {
     "data": {
      "text/html": [
       "<div>\n",
       "<style scoped>\n",
       "    .dataframe tbody tr th:only-of-type {\n",
       "        vertical-align: middle;\n",
       "    }\n",
       "\n",
       "    .dataframe tbody tr th {\n",
       "        vertical-align: top;\n",
       "    }\n",
       "\n",
       "    .dataframe thead th {\n",
       "        text-align: right;\n",
       "    }\n",
       "</style>\n",
       "<table border=\"1\" class=\"dataframe\">\n",
       "  <thead>\n",
       "    <tr style=\"text-align: right;\">\n",
       "      <th></th>\n",
       "      <th>purchase</th>\n",
       "      <th>country_scaled</th>\n",
       "      <th>vert_scaled</th>\n",
       "      <th>sub_scaled</th>\n",
       "    </tr>\n",
       "  </thead>\n",
       "  <tbody>\n",
       "    <tr>\n",
       "      <th>count</th>\n",
       "      <td>27343.000000</td>\n",
       "      <td>27343.000000</td>\n",
       "      <td>27343.000000</td>\n",
       "      <td>27343.000000</td>\n",
       "    </tr>\n",
       "    <tr>\n",
       "      <th>mean</th>\n",
       "      <td>0.351095</td>\n",
       "      <td>0.749991</td>\n",
       "      <td>0.698736</td>\n",
       "      <td>0.539673</td>\n",
       "    </tr>\n",
       "    <tr>\n",
       "      <th>std</th>\n",
       "      <td>0.477321</td>\n",
       "      <td>0.329987</td>\n",
       "      <td>0.304718</td>\n",
       "      <td>0.287166</td>\n",
       "    </tr>\n",
       "    <tr>\n",
       "      <th>min</th>\n",
       "      <td>0.000000</td>\n",
       "      <td>0.000000</td>\n",
       "      <td>0.000000</td>\n",
       "      <td>0.000000</td>\n",
       "    </tr>\n",
       "    <tr>\n",
       "      <th>25%</th>\n",
       "      <td>0.000000</td>\n",
       "      <td>0.454545</td>\n",
       "      <td>0.461538</td>\n",
       "      <td>0.357143</td>\n",
       "    </tr>\n",
       "    <tr>\n",
       "      <th>50%</th>\n",
       "      <td>0.000000</td>\n",
       "      <td>1.000000</td>\n",
       "      <td>0.923077</td>\n",
       "      <td>0.571429</td>\n",
       "    </tr>\n",
       "    <tr>\n",
       "      <th>75%</th>\n",
       "      <td>1.000000</td>\n",
       "      <td>1.000000</td>\n",
       "      <td>0.923077</td>\n",
       "      <td>0.785714</td>\n",
       "    </tr>\n",
       "    <tr>\n",
       "      <th>max</th>\n",
       "      <td>1.000000</td>\n",
       "      <td>1.000000</td>\n",
       "      <td>1.000000</td>\n",
       "      <td>1.000000</td>\n",
       "    </tr>\n",
       "  </tbody>\n",
       "</table>\n",
       "</div>"
      ],
      "text/plain": [
       "           purchase  country_scaled   vert_scaled    sub_scaled\n",
       "count  27343.000000    27343.000000  27343.000000  27343.000000\n",
       "mean       0.351095        0.749991      0.698736      0.539673\n",
       "std        0.477321        0.329987      0.304718      0.287166\n",
       "min        0.000000        0.000000      0.000000      0.000000\n",
       "25%        0.000000        0.454545      0.461538      0.357143\n",
       "50%        0.000000        1.000000      0.923077      0.571429\n",
       "75%        1.000000        1.000000      0.923077      0.785714\n",
       "max        1.000000        1.000000      1.000000      1.000000"
      ]
     },
     "execution_count": 22,
     "metadata": {},
     "output_type": "execute_result"
    }
   ],
   "source": [
    "data.describe()"
   ]
  },
  {
   "cell_type": "code",
   "execution_count": 23,
   "metadata": {},
   "outputs": [
    {
     "data": {
      "image/png": "[encoded data removed]",
      "text/plain": [
       "<Figure size 720x720 with 4 Axes>"
      ]
     },
     "metadata": {
      "needs_background": "light"
     },
     "output_type": "display_data"
    }
   ],
   "source": [
    "data.hist(figsize=(10,10)) \n",
    "pyplot.show()"
   ]
  },
  {
   "cell_type": "code",
   "execution_count": 24,
   "metadata": {},
   "outputs": [
    {
     "data": {
      "image/png": "[encoded data removed]",
      "text/plain": [
       "<Figure size 432x288 with 4 Axes>"
      ]
     },
     "metadata": {
      "needs_background": "light"
     },
     "output_type": "display_data"
    }
   ],
   "source": [
    "#data.plot(kind=\"density\", subplots=True, layout=(4,4), sharex=False) \n",
    "data.plot.kde(subplots=True)\n",
    "pyplot.show()"
   ]
  },
  {
   "cell_type": "code",
   "execution_count": 25,
   "metadata": {},
   "outputs": [],
   "source": [
    "#Trying couple models"
   ]
  },
  {
   "cell_type": "code",
   "execution_count": 26,
   "metadata": {},
   "outputs": [],
   "source": [
    "#Create feature and target for classification\n",
    "features = data.drop(\"purchase\", axis=1).values\n",
    "target = data[\"purchase\"].values"
   ]
  },
  {
   "cell_type": "code",
   "execution_count": 27,
   "metadata": {},
   "outputs": [],
   "source": [
    "#Split the data for training and testing sets\n",
    "X_train, X_test, y_train, y_test = train_test_split(features, target, test_size = 0.3, random_state = 42, stratify = target)"
   ]
  },
  {
   "cell_type": "code",
   "execution_count": 28,
   "metadata": {},
   "outputs": [
    {
     "data": {
      "text/plain": [
       "0.6443983908326222"
      ]
     },
     "execution_count": 28,
     "metadata": {},
     "output_type": "execute_result"
    }
   ],
   "source": [
    "#Initializing the DT classifier\n",
    "dt = DecisionTreeClassifier(criterion = 'gini', random_state = 100)\n",
    "\n",
    "#Fitting on the training data\n",
    "dt.fit(X_train, y_train)\n",
    "\n",
    "#Testing accuracy on the test data\n",
    "dt.score(X_test, y_test)"
   ]
  },
  {
   "cell_type": "code",
   "execution_count": 29,
   "metadata": {},
   "outputs": [
    {
     "name": "stdout",
     "output_type": "stream",
     "text": [
      "[[5223  100]\n",
      " [2817   63]]\n"
     ]
    }
   ],
   "source": [
    "#Creating predictions on the test set \n",
    "prediction = dt.predict(X_test)\n",
    "\n",
    "#Creating the confusion matrix\n",
    "print(confusion_matrix(y_test, prediction))"
   ]
  },
  {
   "cell_type": "code",
   "execution_count": 30,
   "metadata": {},
   "outputs": [
    {
     "data": {
      "text/plain": [
       "0.6476898695599171"
      ]
     },
     "execution_count": 30,
     "metadata": {},
     "output_type": "execute_result"
    }
   ],
   "source": [
    "#Initializing the kNN classifier with 100 neighbors\n",
    "knn_classifier = KNeighborsClassifier(n_neighbors=100)\n",
    "\n",
    "#Fitting the kNN classifier on the training data\n",
    "knn_classifier.fit(X_train, y_train)\n",
    "\n",
    "#Extracting the accuracy score from the test sets for kNN classifiier\n",
    "knn_classifier.score(X_test, y_test)"
   ]
  },
  {
   "cell_type": "code",
   "execution_count": 31,
   "metadata": {},
   "outputs": [
    {
     "name": "stdout",
     "output_type": "stream",
     "text": [
      "[[5266   57]\n",
      " [2833   47]]\n"
     ]
    }
   ],
   "source": [
    "#Creating predictions on the test set \n",
    "prediction = knn_classifier.predict(X_test)\n",
    "\n",
    "#Creating the confusion matrix\n",
    "print(confusion_matrix(y_test, prediction))"
   ]
  }
 ],
 "metadata": {
  "kernelspec": {
   "display_name": "Python 3",
   "language": "python",
   "name": "python3"
  },
  "language_info": {
   "codemirror_mode": {
    "name": "ipython",
    "version": 3
   },
   "file_extension": ".py",
   "mimetype": "text/x-python",
   "name": "python",
   "nbconvert_exporter": "python",
   "pygments_lexer": "ipython3",
   "version": "3.8.2"
  }
 },
 "nbformat": 4,
 "nbformat_minor": 4
}
