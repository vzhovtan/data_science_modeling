{
 "cells": [
  {
   "cell_type": "code",
   "execution_count": null,
   "metadata": {},
   "outputs": [],
   "source": [
    "# Modeling exam\n",
    "# Vadim Zhovtanyuk\n",
    "# Cisco Systems, 2020"
   ]
  },
  {
   "cell_type": "code",
   "execution_count": 1,
   "metadata": {},
   "outputs": [],
   "source": [
    "import numpy as np\n",
    "import pandas as pd\n",
    "import scipy.stats\n",
    "import statistics as stat\n",
    "from matplotlib import pyplot\n",
    "from sklearn.preprocessing import LabelEncoder\n",
    "from sklearn.preprocessing import OneHotEncoder\n",
    "from sklearn.feature_selection import SelectKBest \n",
    "from sklearn.feature_selection import chi2\n",
    "import sys"
   ]
  },
  {
   "cell_type": "code",
   "execution_count": 2,
   "metadata": {},
   "outputs": [],
   "source": [
    "#Loading the data into pandas dataframe\n",
    "file = 'dnac-customer-bookings.csv'\n",
    "data = pd.read_csv(file, sep=',', header=0, parse_dates=True)"
   ]
  },
  {
   "cell_type": "code",
   "execution_count": 3,
   "metadata": {},
   "outputs": [
    {
     "data": {
      "text/html": [
       "<div>\n",
       "<style scoped>\n",
       "    .dataframe tbody tr th:only-of-type {\n",
       "        vertical-align: middle;\n",
       "    }\n",
       "\n",
       "    .dataframe tbody tr th {\n",
       "        vertical-align: top;\n",
       "    }\n",
       "\n",
       "    .dataframe thead th {\n",
       "        text-align: right;\n",
       "    }\n",
       "</style>\n",
       "<table border=\"1\" class=\"dataframe\">\n",
       "  <thead>\n",
       "    <tr style=\"text-align: right;\">\n",
       "      <th></th>\n",
       "      <th>cust</th>\n",
       "      <th>segment</th>\n",
       "      <th>vertical</th>\n",
       "      <th>sub_vertical</th>\n",
       "      <th>country</th>\n",
       "      <th>bookings</th>\n",
       "      <th>purchase</th>\n",
       "    </tr>\n",
       "  </thead>\n",
       "  <tbody>\n",
       "    <tr>\n",
       "      <th>0</th>\n",
       "      <td>d66648938c68318a8dad17a77f0c8327</td>\n",
       "      <td>Commercial</td>\n",
       "      <td>Manufacturing</td>\n",
       "      <td>Hi-tech/Computers Manufacturing</td>\n",
       "      <td>UNITED STATES</td>\n",
       "      <td>103356</td>\n",
       "      <td>False</td>\n",
       "    </tr>\n",
       "    <tr>\n",
       "      <th>1</th>\n",
       "      <td>dcce1fa11f27a6a2c57c8aacf5f0219c</td>\n",
       "      <td>Commercial</td>\n",
       "      <td>Retail</td>\n",
       "      <td>Other (Retail)</td>\n",
       "      <td>UNITED STATES</td>\n",
       "      <td>62952</td>\n",
       "      <td>True</td>\n",
       "    </tr>\n",
       "    <tr>\n",
       "      <th>2</th>\n",
       "      <td>136b88d1b2aea8ae74cbfe111830af69</td>\n",
       "      <td>Commercial</td>\n",
       "      <td>Retail</td>\n",
       "      <td>Other (Retail)</td>\n",
       "      <td>ITALY</td>\n",
       "      <td>2886</td>\n",
       "      <td>True</td>\n",
       "    </tr>\n",
       "    <tr>\n",
       "      <th>3</th>\n",
       "      <td>674c6fcb90b5d29765f266007ad423e1</td>\n",
       "      <td>Enterprise</td>\n",
       "      <td>Retail</td>\n",
       "      <td>Other (Retail)</td>\n",
       "      <td>UNITED STATES</td>\n",
       "      <td>80253</td>\n",
       "      <td>True</td>\n",
       "    </tr>\n",
       "    <tr>\n",
       "      <th>4</th>\n",
       "      <td>97c72b3833ce8ef5154826fc128522b1</td>\n",
       "      <td>Commercial</td>\n",
       "      <td>Health Care</td>\n",
       "      <td>Providers</td>\n",
       "      <td>AUSTRALIA</td>\n",
       "      <td>29424</td>\n",
       "      <td>False</td>\n",
       "    </tr>\n",
       "    <tr>\n",
       "      <th>...</th>\n",
       "      <td>...</td>\n",
       "      <td>...</td>\n",
       "      <td>...</td>\n",
       "      <td>...</td>\n",
       "      <td>...</td>\n",
       "      <td>...</td>\n",
       "      <td>...</td>\n",
       "    </tr>\n",
       "    <tr>\n",
       "      <th>27338</th>\n",
       "      <td>d95a7c1779b6165d0302e8e191243239</td>\n",
       "      <td>Enterprise</td>\n",
       "      <td>Professional Services</td>\n",
       "      <td>Construction/Engineering</td>\n",
       "      <td>UNITED STATES</td>\n",
       "      <td>4142</td>\n",
       "      <td>True</td>\n",
       "    </tr>\n",
       "    <tr>\n",
       "      <th>27339</th>\n",
       "      <td>24113cecc9177b25a3d22c84f9d6ceec</td>\n",
       "      <td>Enterprise</td>\n",
       "      <td>Government</td>\n",
       "      <td>Federal/Central Government</td>\n",
       "      <td>CHINA</td>\n",
       "      <td>6233</td>\n",
       "      <td>False</td>\n",
       "    </tr>\n",
       "    <tr>\n",
       "      <th>27340</th>\n",
       "      <td>c082a0889baf15ce697b044914e3ed44</td>\n",
       "      <td>Enterprise</td>\n",
       "      <td>Manufacturing</td>\n",
       "      <td>Discrete Manufacturing</td>\n",
       "      <td>UNITED STATES</td>\n",
       "      <td>4003</td>\n",
       "      <td>False</td>\n",
       "    </tr>\n",
       "    <tr>\n",
       "      <th>27341</th>\n",
       "      <td>9a28b51f3f5d510a98c8b92446ea9a00</td>\n",
       "      <td>Commercial</td>\n",
       "      <td>Retail</td>\n",
       "      <td>Consumer Services(dry cleaners,video rental,etc)</td>\n",
       "      <td>UNITED STATES</td>\n",
       "      <td>1471</td>\n",
       "      <td>True</td>\n",
       "    </tr>\n",
       "    <tr>\n",
       "      <th>27342</th>\n",
       "      <td>a1425017639d721a421664ade535853c</td>\n",
       "      <td>Enterprise</td>\n",
       "      <td>Government</td>\n",
       "      <td>Federal/Central Government</td>\n",
       "      <td>JAPAN</td>\n",
       "      <td>33835</td>\n",
       "      <td>False</td>\n",
       "    </tr>\n",
       "  </tbody>\n",
       "</table>\n",
       "<p>27343 rows × 7 columns</p>\n",
       "</div>"
      ],
      "text/plain": [
       "                                   cust     segment               vertical  \\\n",
       "0      d66648938c68318a8dad17a77f0c8327  Commercial          Manufacturing   \n",
       "1      dcce1fa11f27a6a2c57c8aacf5f0219c  Commercial                 Retail   \n",
       "2      136b88d1b2aea8ae74cbfe111830af69  Commercial                 Retail   \n",
       "3      674c6fcb90b5d29765f266007ad423e1  Enterprise                 Retail   \n",
       "4      97c72b3833ce8ef5154826fc128522b1  Commercial            Health Care   \n",
       "...                                 ...         ...                    ...   \n",
       "27338  d95a7c1779b6165d0302e8e191243239  Enterprise  Professional Services   \n",
       "27339  24113cecc9177b25a3d22c84f9d6ceec  Enterprise             Government   \n",
       "27340  c082a0889baf15ce697b044914e3ed44  Enterprise          Manufacturing   \n",
       "27341  9a28b51f3f5d510a98c8b92446ea9a00  Commercial                 Retail   \n",
       "27342  a1425017639d721a421664ade535853c  Enterprise             Government   \n",
       "\n",
       "                                           sub_vertical        country  \\\n",
       "0                       Hi-tech/Computers Manufacturing  UNITED STATES   \n",
       "1                                        Other (Retail)  UNITED STATES   \n",
       "2                                        Other (Retail)          ITALY   \n",
       "3                                        Other (Retail)  UNITED STATES   \n",
       "4                                             Providers      AUSTRALIA   \n",
       "...                                                 ...            ...   \n",
       "27338                          Construction/Engineering  UNITED STATES   \n",
       "27339                        Federal/Central Government          CHINA   \n",
       "27340                            Discrete Manufacturing  UNITED STATES   \n",
       "27341  Consumer Services(dry cleaners,video rental,etc)  UNITED STATES   \n",
       "27342                        Federal/Central Government          JAPAN   \n",
       "\n",
       "      bookings  purchase  \n",
       "0       103356     False  \n",
       "1        62952      True  \n",
       "2         2886      True  \n",
       "3        80253      True  \n",
       "4        29424     False  \n",
       "...        ...       ...  \n",
       "27338     4142      True  \n",
       "27339     6233     False  \n",
       "27340     4003     False  \n",
       "27341     1471      True  \n",
       "27342    33835     False  \n",
       "\n",
       "[27343 rows x 7 columns]"
      ]
     },
     "execution_count": 3,
     "metadata": {},
     "output_type": "execute_result"
    }
   ],
   "source": [
    "#First look at the data\n",
    "data"
   ]
  },
  {
   "cell_type": "code",
   "execution_count": 4,
   "metadata": {},
   "outputs": [],
   "source": [
    "#Removing cust column which is unique in each row and hence not useful for further analysis\n",
    "data = data.drop(\"cust\", axis=1)"
   ]
  },
  {
   "cell_type": "code",
   "execution_count": 5,
   "metadata": {},
   "outputs": [
    {
     "data": {
      "text/plain": [
       "segment         False\n",
       "vertical        False\n",
       "sub_vertical    False\n",
       "country         False\n",
       "bookings        False\n",
       "purchase        False\n",
       "dtype: bool"
      ]
     },
     "execution_count": 5,
     "metadata": {},
     "output_type": "execute_result"
    }
   ],
   "source": [
    "#Checking if there are any \"0\" values\n",
    "data.isnull().any()"
   ]
  },
  {
   "cell_type": "code",
   "execution_count": 6,
   "metadata": {},
   "outputs": [
    {
     "data": {
      "text/plain": [
       "Enterprise             16623\n",
       "Commercial             10471\n",
       "commercial               246\n",
       "enterprise                 2\n",
       "enterprise customer        1\n",
       "Name: segment, dtype: int64"
      ]
     },
     "execution_count": 6,
     "metadata": {},
     "output_type": "execute_result"
    }
   ],
   "source": [
    "#Checking \"segment\" column\n",
    "data[\"segment\"].value_counts()"
   ]
  },
  {
   "cell_type": "code",
   "execution_count": 7,
   "metadata": {},
   "outputs": [],
   "source": [
    "#Fixing different names for the same segment\n",
    "def fix(column):\n",
    "    results = {}\n",
    "    results['column'] = column.name\n",
    "\n",
    "    #Replacing the \"wrong\" names\n",
    "    segment_column = []\n",
    "    for value in column:\n",
    "        if value == \"enterprise customer\":\n",
    "            segment_column.append(\"Enterprise\")\n",
    "        elif value == \"enterprise\":\n",
    "            segment_column.append(\"Enterprise\")\n",
    "        elif value == \"commercial\":\n",
    "            segment_column.append(\"Commercial\")\n",
    "        else:\n",
    "            segment_column.append(value)\n",
    "\n",
    "    #Creating new column data with 'fixed' entries\n",
    "    results['data'] = segment_column\n",
    "\n",
    "    return results\n",
    "\n",
    "#Replacing data with new value\n",
    "missing_data = data.apply(fix)\n",
    "for m in missing_data:\n",
    "    data[m['column']] = m['data']"
   ]
  },
  {
   "cell_type": "code",
   "execution_count": 8,
   "metadata": {},
   "outputs": [
    {
     "data": {
      "text/plain": [
       "Enterprise    16626\n",
       "Commercial    10717\n",
       "Name: segment, dtype: int64"
      ]
     },
     "execution_count": 8,
     "metadata": {},
     "output_type": "execute_result"
    }
   ],
   "source": [
    "#Verification of segment name\n",
    "data[\"segment\"].value_counts()"
   ]
  },
  {
   "cell_type": "code",
   "execution_count": 9,
   "metadata": {},
   "outputs": [
    {
     "data": {
      "text/plain": [
       "array(['Commercial', 'Enterprise'], dtype=object)"
      ]
     },
     "execution_count": 9,
     "metadata": {},
     "output_type": "execute_result"
    }
   ],
   "source": [
    "#List of segment names\n",
    "segment_name_list = data['segment'].unique()\n",
    "segment_name_list"
   ]
  },
  {
   "cell_type": "code",
   "execution_count": 10,
   "metadata": {},
   "outputs": [],
   "source": [
    "#Encoding segment column to prepare data for further analysis \n",
    "data[\"segment\"] = data[\"segment\"].astype(\"category\")\n",
    "segment_encode = LabelEncoder()\n",
    "data[\"segment\"] = segment_encode.fit_transform(data.segment)\n",
    "segment_one_hot = OneHotEncoder()\n",
    "segment_one_hot_encode = segment_one_hot.fit_transform(data.segment.values.reshape(-1,1)).toarray()\n",
    "ohe_variable = pd.DataFrame(segment_one_hot_encode, columns = [\"segment_\" + str(int(i)) for i in range (segment_one_hot_encode.shape[1])])\n",
    "data = pd.concat([data, ohe_variable], axis=1)\n",
    "data = data.drop(\"segment\", axis=1)"
   ]
  },
  {
   "cell_type": "code",
   "execution_count": 11,
   "metadata": {},
   "outputs": [
    {
     "data": {
      "text/html": [
       "<div>\n",
       "<style scoped>\n",
       "    .dataframe tbody tr th:only-of-type {\n",
       "        vertical-align: middle;\n",
       "    }\n",
       "\n",
       "    .dataframe tbody tr th {\n",
       "        vertical-align: top;\n",
       "    }\n",
       "\n",
       "    .dataframe thead th {\n",
       "        text-align: right;\n",
       "    }\n",
       "</style>\n",
       "<table border=\"1\" class=\"dataframe\">\n",
       "  <thead>\n",
       "    <tr style=\"text-align: right;\">\n",
       "      <th></th>\n",
       "      <th>vertical</th>\n",
       "      <th>sub_vertical</th>\n",
       "      <th>country</th>\n",
       "      <th>bookings</th>\n",
       "      <th>purchase</th>\n",
       "      <th>segment_0</th>\n",
       "      <th>segment_1</th>\n",
       "    </tr>\n",
       "  </thead>\n",
       "  <tbody>\n",
       "    <tr>\n",
       "      <th>0</th>\n",
       "      <td>Manufacturing</td>\n",
       "      <td>Hi-tech/Computers Manufacturing</td>\n",
       "      <td>UNITED STATES</td>\n",
       "      <td>103356</td>\n",
       "      <td>False</td>\n",
       "      <td>1.0</td>\n",
       "      <td>0.0</td>\n",
       "    </tr>\n",
       "    <tr>\n",
       "      <th>1</th>\n",
       "      <td>Retail</td>\n",
       "      <td>Other (Retail)</td>\n",
       "      <td>UNITED STATES</td>\n",
       "      <td>62952</td>\n",
       "      <td>True</td>\n",
       "      <td>1.0</td>\n",
       "      <td>0.0</td>\n",
       "    </tr>\n",
       "    <tr>\n",
       "      <th>2</th>\n",
       "      <td>Retail</td>\n",
       "      <td>Other (Retail)</td>\n",
       "      <td>ITALY</td>\n",
       "      <td>2886</td>\n",
       "      <td>True</td>\n",
       "      <td>1.0</td>\n",
       "      <td>0.0</td>\n",
       "    </tr>\n",
       "    <tr>\n",
       "      <th>3</th>\n",
       "      <td>Retail</td>\n",
       "      <td>Other (Retail)</td>\n",
       "      <td>UNITED STATES</td>\n",
       "      <td>80253</td>\n",
       "      <td>True</td>\n",
       "      <td>0.0</td>\n",
       "      <td>1.0</td>\n",
       "    </tr>\n",
       "    <tr>\n",
       "      <th>4</th>\n",
       "      <td>Health Care</td>\n",
       "      <td>Providers</td>\n",
       "      <td>AUSTRALIA</td>\n",
       "      <td>29424</td>\n",
       "      <td>False</td>\n",
       "      <td>1.0</td>\n",
       "      <td>0.0</td>\n",
       "    </tr>\n",
       "    <tr>\n",
       "      <th>...</th>\n",
       "      <td>...</td>\n",
       "      <td>...</td>\n",
       "      <td>...</td>\n",
       "      <td>...</td>\n",
       "      <td>...</td>\n",
       "      <td>...</td>\n",
       "      <td>...</td>\n",
       "    </tr>\n",
       "    <tr>\n",
       "      <th>27338</th>\n",
       "      <td>Professional Services</td>\n",
       "      <td>Construction/Engineering</td>\n",
       "      <td>UNITED STATES</td>\n",
       "      <td>4142</td>\n",
       "      <td>True</td>\n",
       "      <td>0.0</td>\n",
       "      <td>1.0</td>\n",
       "    </tr>\n",
       "    <tr>\n",
       "      <th>27339</th>\n",
       "      <td>Government</td>\n",
       "      <td>Federal/Central Government</td>\n",
       "      <td>CHINA</td>\n",
       "      <td>6233</td>\n",
       "      <td>False</td>\n",
       "      <td>0.0</td>\n",
       "      <td>1.0</td>\n",
       "    </tr>\n",
       "    <tr>\n",
       "      <th>27340</th>\n",
       "      <td>Manufacturing</td>\n",
       "      <td>Discrete Manufacturing</td>\n",
       "      <td>UNITED STATES</td>\n",
       "      <td>4003</td>\n",
       "      <td>False</td>\n",
       "      <td>0.0</td>\n",
       "      <td>1.0</td>\n",
       "    </tr>\n",
       "    <tr>\n",
       "      <th>27341</th>\n",
       "      <td>Retail</td>\n",
       "      <td>Consumer Services(dry cleaners,video rental,etc)</td>\n",
       "      <td>UNITED STATES</td>\n",
       "      <td>1471</td>\n",
       "      <td>True</td>\n",
       "      <td>1.0</td>\n",
       "      <td>0.0</td>\n",
       "    </tr>\n",
       "    <tr>\n",
       "      <th>27342</th>\n",
       "      <td>Government</td>\n",
       "      <td>Federal/Central Government</td>\n",
       "      <td>JAPAN</td>\n",
       "      <td>33835</td>\n",
       "      <td>False</td>\n",
       "      <td>0.0</td>\n",
       "      <td>1.0</td>\n",
       "    </tr>\n",
       "  </tbody>\n",
       "</table>\n",
       "<p>27343 rows × 7 columns</p>\n",
       "</div>"
      ],
      "text/plain": [
       "                    vertical  \\\n",
       "0              Manufacturing   \n",
       "1                     Retail   \n",
       "2                     Retail   \n",
       "3                     Retail   \n",
       "4                Health Care   \n",
       "...                      ...   \n",
       "27338  Professional Services   \n",
       "27339             Government   \n",
       "27340          Manufacturing   \n",
       "27341                 Retail   \n",
       "27342             Government   \n",
       "\n",
       "                                           sub_vertical        country  \\\n",
       "0                       Hi-tech/Computers Manufacturing  UNITED STATES   \n",
       "1                                        Other (Retail)  UNITED STATES   \n",
       "2                                        Other (Retail)          ITALY   \n",
       "3                                        Other (Retail)  UNITED STATES   \n",
       "4                                             Providers      AUSTRALIA   \n",
       "...                                                 ...            ...   \n",
       "27338                          Construction/Engineering  UNITED STATES   \n",
       "27339                        Federal/Central Government          CHINA   \n",
       "27340                            Discrete Manufacturing  UNITED STATES   \n",
       "27341  Consumer Services(dry cleaners,video rental,etc)  UNITED STATES   \n",
       "27342                        Federal/Central Government          JAPAN   \n",
       "\n",
       "      bookings  purchase  segment_0  segment_1  \n",
       "0       103356     False        1.0        0.0  \n",
       "1        62952      True        1.0        0.0  \n",
       "2         2886      True        1.0        0.0  \n",
       "3        80253      True        0.0        1.0  \n",
       "4        29424     False        1.0        0.0  \n",
       "...        ...       ...        ...        ...  \n",
       "27338     4142      True        0.0        1.0  \n",
       "27339     6233     False        0.0        1.0  \n",
       "27340     4003     False        0.0        1.0  \n",
       "27341     1471      True        1.0        0.0  \n",
       "27342    33835     False        0.0        1.0  \n",
       "\n",
       "[27343 rows x 7 columns]"
      ]
     },
     "execution_count": 11,
     "metadata": {},
     "output_type": "execute_result"
    }
   ],
   "source": [
    "data"
   ]
  },
  {
   "cell_type": "code",
   "execution_count": 12,
   "metadata": {},
   "outputs": [
    {
     "data": {
      "text/plain": [
       "Professional Services     5553\n",
       "Manufacturing             5112\n",
       "Government                3559\n",
       "Retail                    3483\n",
       "Technical Services        2816\n",
       "Financial Services        2573\n",
       "Wholesale/Distribution    2384\n",
       "Health Care               1863\n",
       "Name: vertical, dtype: int64"
      ]
     },
     "execution_count": 12,
     "metadata": {},
     "output_type": "execute_result"
    }
   ],
   "source": [
    "#Checking \"vertical\" column\n",
    "data['vertical'].value_counts()"
   ]
  },
  {
   "cell_type": "code",
   "execution_count": 13,
   "metadata": {},
   "outputs": [
    {
     "data": {
      "text/plain": [
       "array(['Manufacturing', 'Retail', 'Health Care', 'Professional Services',\n",
       "       'Technical Services', 'Government', 'Wholesale/Distribution',\n",
       "       'Financial Services'], dtype=object)"
      ]
     },
     "execution_count": 13,
     "metadata": {},
     "output_type": "execute_result"
    }
   ],
   "source": [
    "#List of vertical names\n",
    "vertical_name_list = data['vertical'].unique()\n",
    "vertical_name_list"
   ]
  },
  {
   "cell_type": "code",
   "execution_count": 14,
   "metadata": {},
   "outputs": [],
   "source": [
    "#Encoding \"vertical\" column to prepare data for further analysis \n",
    "data[\"vertical\"] = data[\"vertical\"].astype(\"category\")\n",
    "vertical_encode = LabelEncoder()\n",
    "data[\"vertical\"] = vertical_encode.fit_transform(data.vertical)\n",
    "# vertical_one_hot = OneHotEncoder()\n",
    "# vertical_one_hot_encode = vertical_one_hot.fit_transform(data.vertical.values.reshape(-1,1)).toarray()\n",
    "# ohe_variable = pd.DataFrame(vertical_one_hot_encode, columns = [\"vertical_\" + str(int(i)) for i in range (vertical_one_hot_encode.shape[1])])\n",
    "# data = pd.concat([data, ohe_variable], axis=1)\n",
    "# data = data.drop(\"vertical\", axis=1)"
   ]
  },
  {
   "cell_type": "code",
   "execution_count": 15,
   "metadata": {},
   "outputs": [
    {
     "data": {
      "text/html": [
       "<div>\n",
       "<style scoped>\n",
       "    .dataframe tbody tr th:only-of-type {\n",
       "        vertical-align: middle;\n",
       "    }\n",
       "\n",
       "    .dataframe tbody tr th {\n",
       "        vertical-align: top;\n",
       "    }\n",
       "\n",
       "    .dataframe thead th {\n",
       "        text-align: right;\n",
       "    }\n",
       "</style>\n",
       "<table border=\"1\" class=\"dataframe\">\n",
       "  <thead>\n",
       "    <tr style=\"text-align: right;\">\n",
       "      <th></th>\n",
       "      <th>vertical</th>\n",
       "      <th>sub_vertical</th>\n",
       "      <th>country</th>\n",
       "      <th>bookings</th>\n",
       "      <th>purchase</th>\n",
       "      <th>segment_0</th>\n",
       "      <th>segment_1</th>\n",
       "    </tr>\n",
       "  </thead>\n",
       "  <tbody>\n",
       "    <tr>\n",
       "      <th>0</th>\n",
       "      <td>3</td>\n",
       "      <td>Hi-tech/Computers Manufacturing</td>\n",
       "      <td>UNITED STATES</td>\n",
       "      <td>103356</td>\n",
       "      <td>False</td>\n",
       "      <td>1.0</td>\n",
       "      <td>0.0</td>\n",
       "    </tr>\n",
       "    <tr>\n",
       "      <th>1</th>\n",
       "      <td>5</td>\n",
       "      <td>Other (Retail)</td>\n",
       "      <td>UNITED STATES</td>\n",
       "      <td>62952</td>\n",
       "      <td>True</td>\n",
       "      <td>1.0</td>\n",
       "      <td>0.0</td>\n",
       "    </tr>\n",
       "    <tr>\n",
       "      <th>2</th>\n",
       "      <td>5</td>\n",
       "      <td>Other (Retail)</td>\n",
       "      <td>ITALY</td>\n",
       "      <td>2886</td>\n",
       "      <td>True</td>\n",
       "      <td>1.0</td>\n",
       "      <td>0.0</td>\n",
       "    </tr>\n",
       "    <tr>\n",
       "      <th>3</th>\n",
       "      <td>5</td>\n",
       "      <td>Other (Retail)</td>\n",
       "      <td>UNITED STATES</td>\n",
       "      <td>80253</td>\n",
       "      <td>True</td>\n",
       "      <td>0.0</td>\n",
       "      <td>1.0</td>\n",
       "    </tr>\n",
       "    <tr>\n",
       "      <th>4</th>\n",
       "      <td>2</td>\n",
       "      <td>Providers</td>\n",
       "      <td>AUSTRALIA</td>\n",
       "      <td>29424</td>\n",
       "      <td>False</td>\n",
       "      <td>1.0</td>\n",
       "      <td>0.0</td>\n",
       "    </tr>\n",
       "    <tr>\n",
       "      <th>...</th>\n",
       "      <td>...</td>\n",
       "      <td>...</td>\n",
       "      <td>...</td>\n",
       "      <td>...</td>\n",
       "      <td>...</td>\n",
       "      <td>...</td>\n",
       "      <td>...</td>\n",
       "    </tr>\n",
       "    <tr>\n",
       "      <th>27338</th>\n",
       "      <td>4</td>\n",
       "      <td>Construction/Engineering</td>\n",
       "      <td>UNITED STATES</td>\n",
       "      <td>4142</td>\n",
       "      <td>True</td>\n",
       "      <td>0.0</td>\n",
       "      <td>1.0</td>\n",
       "    </tr>\n",
       "    <tr>\n",
       "      <th>27339</th>\n",
       "      <td>1</td>\n",
       "      <td>Federal/Central Government</td>\n",
       "      <td>CHINA</td>\n",
       "      <td>6233</td>\n",
       "      <td>False</td>\n",
       "      <td>0.0</td>\n",
       "      <td>1.0</td>\n",
       "    </tr>\n",
       "    <tr>\n",
       "      <th>27340</th>\n",
       "      <td>3</td>\n",
       "      <td>Discrete Manufacturing</td>\n",
       "      <td>UNITED STATES</td>\n",
       "      <td>4003</td>\n",
       "      <td>False</td>\n",
       "      <td>0.0</td>\n",
       "      <td>1.0</td>\n",
       "    </tr>\n",
       "    <tr>\n",
       "      <th>27341</th>\n",
       "      <td>5</td>\n",
       "      <td>Consumer Services(dry cleaners,video rental,etc)</td>\n",
       "      <td>UNITED STATES</td>\n",
       "      <td>1471</td>\n",
       "      <td>True</td>\n",
       "      <td>1.0</td>\n",
       "      <td>0.0</td>\n",
       "    </tr>\n",
       "    <tr>\n",
       "      <th>27342</th>\n",
       "      <td>1</td>\n",
       "      <td>Federal/Central Government</td>\n",
       "      <td>JAPAN</td>\n",
       "      <td>33835</td>\n",
       "      <td>False</td>\n",
       "      <td>0.0</td>\n",
       "      <td>1.0</td>\n",
       "    </tr>\n",
       "  </tbody>\n",
       "</table>\n",
       "<p>27343 rows × 7 columns</p>\n",
       "</div>"
      ],
      "text/plain": [
       "       vertical                                      sub_vertical  \\\n",
       "0             3                   Hi-tech/Computers Manufacturing   \n",
       "1             5                                    Other (Retail)   \n",
       "2             5                                    Other (Retail)   \n",
       "3             5                                    Other (Retail)   \n",
       "4             2                                         Providers   \n",
       "...         ...                                               ...   \n",
       "27338         4                          Construction/Engineering   \n",
       "27339         1                        Federal/Central Government   \n",
       "27340         3                            Discrete Manufacturing   \n",
       "27341         5  Consumer Services(dry cleaners,video rental,etc)   \n",
       "27342         1                        Federal/Central Government   \n",
       "\n",
       "             country bookings  purchase  segment_0  segment_1  \n",
       "0      UNITED STATES   103356     False        1.0        0.0  \n",
       "1      UNITED STATES    62952      True        1.0        0.0  \n",
       "2              ITALY     2886      True        1.0        0.0  \n",
       "3      UNITED STATES    80253      True        0.0        1.0  \n",
       "4          AUSTRALIA    29424     False        1.0        0.0  \n",
       "...              ...      ...       ...        ...        ...  \n",
       "27338  UNITED STATES     4142      True        0.0        1.0  \n",
       "27339          CHINA     6233     False        0.0        1.0  \n",
       "27340  UNITED STATES     4003     False        0.0        1.0  \n",
       "27341  UNITED STATES     1471      True        1.0        0.0  \n",
       "27342          JAPAN    33835     False        0.0        1.0  \n",
       "\n",
       "[27343 rows x 7 columns]"
      ]
     },
     "execution_count": 15,
     "metadata": {},
     "output_type": "execute_result"
    }
   ],
   "source": [
    "data"
   ]
  },
  {
   "cell_type": "code",
   "execution_count": null,
   "metadata": {},
   "outputs": [],
   "source": [
    "#Checking \"sub_vertical\" column\n",
    "data[\"sub_vertical\"].value_counts()"
   ]
  },
  {
   "cell_type": "code",
   "execution_count": null,
   "metadata": {},
   "outputs": [],
   "source": [
    "#List of sub_vertical names\n",
    "subvertical_names_list = data[\"sub_vertical\"].unique()\n",
    "subvertical_names_list"
   ]
  },
  {
   "cell_type": "code",
   "execution_count": null,
   "metadata": {},
   "outputs": [],
   "source": [
    "#Encoding \"sub_vertical\" column to prepare data for further analysis \n",
    "data[\"sub_vertical\"] = data[\"sub_vertical\"].astype(\"category\")\n",
    "sub_vertical_encode = LabelEncoder()\n",
    "data[\"sub_vertical\"] = sub_vertical_encode.fit_transform(data.sub_vertical)\n",
    "data\n",
    "# sub_vertical_one_hot = OneHotEncoder()\n",
    "# sub_vertical_one_hot_encode = sub_vertical_one_hot.fit_transform(data.sub_vertical.values.reshape(-1,1)).toarray()\n",
    "# ohe_variable = pd.DataFrame(sub_vertical_one_hot_encode, columns = [\"sub_vertical_\" + str(int(i)) for i in range (sub_vertical_one_hot_encode.shape[1])])\n",
    "# data = pd.concat([data, ohe_variable], axis=1)\n",
    "# data = data.drop(\"sub_vertical\", axis=1)"
   ]
  },
  {
   "cell_type": "code",
   "execution_count": null,
   "metadata": {},
   "outputs": [],
   "source": [
    "data"
   ]
  },
  {
   "cell_type": "code",
   "execution_count": null,
   "metadata": {},
   "outputs": [],
   "source": [
    "#Checking \"country\" column\n",
    "data[\"country\"].value_counts()"
   ]
  },
  {
   "cell_type": "code",
   "execution_count": null,
   "metadata": {},
   "outputs": [],
   "source": [
    "#Fixing different names for the same country issues\n",
    "def fix(column):\n",
    "    results = {}\n",
    "    results['column'] = column.name\n",
    "\n",
    "    #Replacing different names for the same country\n",
    "    country_column = []\n",
    "    for value in column:\n",
    "        if value == \"USA\":\n",
    "            country_column.append(\"UNITED STATES\")\n",
    "        elif value == \"DEUTSCHLAND\":\n",
    "            country_column.append(\"GERMANY\")\n",
    "        else:\n",
    "            country_column.append(value)\n",
    "\n",
    "    #Creating new column data with 'fixed' entries\n",
    "    results['data'] = country_column\n",
    "\n",
    "    return results  \n",
    "\n",
    "#Replacing data with new value\n",
    "temp_data = data.apply(fix)\n",
    "for m in temp_data:\n",
    "    data[m['column']] = m['data']"
   ]
  },
  {
   "cell_type": "code",
   "execution_count": null,
   "metadata": {},
   "outputs": [],
   "source": [
    "#Verification of country names\n",
    "data[\"country\"].value_counts()"
   ]
  },
  {
   "cell_type": "code",
   "execution_count": null,
   "metadata": {},
   "outputs": [],
   "source": [
    "#List of countrie names\n",
    "country_name_list = data[\"country\"].unique()\n",
    "country_name_list"
   ]
  },
  {
   "cell_type": "code",
   "execution_count": null,
   "metadata": {},
   "outputs": [],
   "source": [
    "#Encoding \"country\" column to prepare data for further analysis \n",
    "data[\"country\"] = data[\"country\"].astype(\"category\")\n",
    "country_encode = LabelEncoder()\n",
    "data[\"country\"] = country_encode.fit_transform(data.country)\n",
    "country_one_hot = OneHotEncoder()\n",
    "country_one_hot_encode = country_one_hot.fit_transform(data.country.values.reshape(-1,1)).toarray()\n",
    "ohe_variable = pd.DataFrame(country_one_hot_encode, columns = [\"country_\" + str(int(i)) for i in range (country_one_hot_encode.shape[1])])\n",
    "data = pd.concat([data, ohe_variable], axis=1)\n",
    "data = data.drop(\"country\", axis=1)"
   ]
  },
  {
   "cell_type": "code",
   "execution_count": null,
   "metadata": {},
   "outputs": [],
   "source": [
    "data"
   ]
  },
  {
   "cell_type": "code",
   "execution_count": null,
   "metadata": {},
   "outputs": [],
   "source": [
    "#Checking \"bookings\"\n",
    "data[\"bookings\"].value_counts()"
   ]
  },
  {
   "cell_type": "code",
   "execution_count": null,
   "metadata": {},
   "outputs": [],
   "source": [
    "#Replacing \"unknown\" and negative values with pre-defined value \"1010101\"\n",
    "def fix(column):\n",
    "    results = {}\n",
    "    results['column'] = column.name\n",
    "\n",
    "    fix_column = []\n",
    "    for value in column:\n",
    "        if value == \"unknown\":\n",
    "            fix_column.append(\"1010101\")\n",
    "        elif str(value).startswith(\"-\"):\n",
    "            fix_column.append(\"1010101\")\n",
    "        else:\n",
    "            fix_column.append(value)\n",
    "\n",
    "    #Creating new column data with 'fixed' entries\n",
    "    results['data'] = fix_column\n",
    "\n",
    "    return results  \n",
    "\n",
    "#Replacing data with new value\n",
    "temp_data = data.apply(fix)\n",
    "for m in temp_data:\n",
    "    data[m['column']] = m['data']"
   ]
  },
  {
   "cell_type": "code",
   "execution_count": null,
   "metadata": {},
   "outputs": [],
   "source": [
    "#Verification of bookings values\n",
    "data[\"bookings\"].value_counts()"
   ]
  },
  {
   "cell_type": "code",
   "execution_count": null,
   "metadata": {},
   "outputs": [],
   "source": [
    "#Fixing wrong data in bookings \n",
    "def missing(column):\n",
    "    results = {}\n",
    "    results['column'] = column.name\n",
    "\n",
    "    #Step1 -  Removing wrong entries and calcualting median \n",
    "    s1_column = [x for x in column if x != 1010101]\n",
    "    results['removed_median'] = stat.median(s1_column)\n",
    "    \n",
    "    #Step2 - Replace wrong entries with (removed) median\n",
    "    s2_column = []\n",
    "    for value in column:\n",
    "        if value != 1010101:\n",
    "            s2_column.append(value)\n",
    "        else:\n",
    "            s2_column.append(results['removed_median'])\n",
    "\n",
    "    #Creating new column data with 'fixed' entries\n",
    "    results['data'] = s2_column\n",
    "\n",
    "    return results\n",
    "\n",
    "#Replace missing data with mean value\n",
    "ds = data.astype({'bookings': 'int64'})\n",
    "missing_data = ds.select_dtypes(include=['float64', 'int64']).apply(missing)\n",
    "for m in missing_data:\n",
    "    ds[m['column']] = m['data']  \n",
    "    \n",
    "data = ds.astype({'bookings': 'int64'})    "
   ]
  },
  {
   "cell_type": "code",
   "execution_count": null,
   "metadata": {},
   "outputs": [],
   "source": [
    "data"
   ]
  },
  {
   "cell_type": "code",
   "execution_count": null,
   "metadata": {},
   "outputs": [],
   "source": [
    "#Purchase list booleans\n",
    "purchase_bool_list = data[\"purchase\"].unique()\n",
    "purchase_bool_list"
   ]
  },
  {
   "cell_type": "code",
   "execution_count": null,
   "metadata": {},
   "outputs": [],
   "source": [
    "#Encoding \"purchase\" column to prepare data for further analysis \n",
    "data[\"purchase\"] = data[\"purchase\"].astype(\"category\")\n",
    "purchase_encode = LabelEncoder()\n",
    "data[\"purchase\"] = purchase_encode.fit_transform(data.purchase)\n",
    "purchase_one_hot = OneHotEncoder()\n",
    "purchase_one_hot_encode = purchase_one_hot.fit_transform(data.purchase.values.reshape(-1,1)).toarray()\n",
    "ohe_variable = pd.DataFrame(purchase_one_hot_encode, columns = [\"purchase_\" + str(int(i)) for i in range (purchase_one_hot_encode.shape[1])])\n",
    "data = pd.concat([data, ohe_variable], axis=1)\n",
    "data = data.drop(\"purchase\", axis=1)"
   ]
  },
  {
   "cell_type": "code",
   "execution_count": null,
   "metadata": {},
   "outputs": [],
   "source": [
    "data"
   ]
  },
  {
   "cell_type": "code",
   "execution_count": null,
   "metadata": {},
   "outputs": [],
   "source": [
    "data.describe()"
   ]
  },
  {
   "cell_type": "code",
   "execution_count": null,
   "metadata": {},
   "outputs": [],
   "source": [
    "data.shape"
   ]
  },
  {
   "cell_type": "code",
   "execution_count": null,
   "metadata": {},
   "outputs": [],
   "source": [
    "data.dtypes"
   ]
  },
  {
   "cell_type": "code",
   "execution_count": null,
   "metadata": {},
   "outputs": [],
   "source": [
    "data.groupby(\"purchase\").size()"
   ]
  },
  {
   "cell_type": "code",
   "execution_count": null,
   "metadata": {},
   "outputs": [],
   "source": [
    "data.corr(method='pearson')"
   ]
  },
  {
   "cell_type": "code",
   "execution_count": null,
   "metadata": {},
   "outputs": [],
   "source": [
    "data.skew()"
   ]
  },
  {
   "cell_type": "code",
   "execution_count": null,
   "metadata": {},
   "outputs": [],
   "source": [
    "data[\"bookings\"].hist()\n",
    "pyplot.show()"
   ]
  },
  {
   "cell_type": "code",
   "execution_count": null,
   "metadata": {},
   "outputs": [],
   "source": [
    "correlations = data.corr()\n",
    "fig = pyplot.figure() \n",
    "ax = fig.add_subplot(111) \n",
    "cax = ax.matshow(correlations, vmin=-1, vmax=1) \n",
    "fig.colorbar(cax) \n",
    "ticks = np.arange(0,9,1) \n",
    "ax.set_xticks(ticks) \n",
    "ax.set_yticks(ticks) \n",
    "pyplot.show()"
   ]
  },
  {
   "cell_type": "code",
   "execution_count": null,
   "metadata": {},
   "outputs": [],
   "source": [
    "data"
   ]
  },
  {
   "cell_type": "code",
   "execution_count": null,
   "metadata": {},
   "outputs": [],
   "source": [
    "# [END]"
   ]
  }
 ],
 "metadata": {
  "kernelspec": {
   "display_name": "Python 3",
   "language": "python",
   "name": "python3"
  },
  "language_info": {
   "codemirror_mode": {
    "name": "ipython",
    "version": 3
   },
   "file_extension": ".py",
   "mimetype": "text/x-python",
   "name": "python",
   "nbconvert_exporter": "python",
   "pygments_lexer": "ipython3",
   "version": "3.8.2"
  }
 },
 "nbformat": 4,
 "nbformat_minor": 2
}
