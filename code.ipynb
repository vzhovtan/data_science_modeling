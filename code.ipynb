{
 "cells": [
  {
   "cell_type": "code",
   "execution_count": 1,
   "metadata": {},
   "outputs": [],
   "source": [
    "# Modeling exam\n",
    "# Vadim Zhovtanyuk\n",
    "# Cisco Systems, 2020"
   ]
  },
  {
   "cell_type": "code",
   "execution_count": 2,
   "metadata": {},
   "outputs": [],
   "source": [
    "import numpy as np\n",
    "import pandas as pd\n",
    "import seaborn as sns\n",
    "#import scipy.stats\n",
    "import statistics as stat\n",
    "import matplotlib.pyplot as plt\n",
    "from sklearn import tree\n",
    "from sklearn.preprocessing import LabelEncoder\n",
    "from sklearn.preprocessing import OneHotEncoder\n",
    "from sklearn.model_selection import train_test_split\n",
    "from sklearn.tree import DecisionTreeClassifier\n",
    "from sklearn.neighbors import KNeighborsClassifier\n",
    "from sklearn.naive_bayes import GaussianNB\n",
    "from sklearn import linear_model\n",
    "from sklearn.ensemble import RandomForestClassifier\n",
    "from sklearn.ensemble import AdaBoostClassifier\n",
    "from sklearn.ensemble import RandomForestRegressor\n",
    "from sklearn.ensemble import GradientBoostingRegressor\n",
    "from sklearn.ensemble import VotingClassifier\n",
    "from sklearn.model_selection import GridSearchCV\n",
    "from sklearn.metrics import confusion_matrix\n",
    "from sklearn.metrics import classification_report\n",
    "import scikitplot as skplt\n",
    "import sys"
   ]
  },
  {
   "cell_type": "code",
   "execution_count": 3,
   "metadata": {},
   "outputs": [],
   "source": [
    "#Loading the data into pandas dataframe\n",
    "file = 'dnac-customer-bookings.csv'\n",
    "data = pd.read_csv(file, sep=',', header=0, parse_dates=True)"
   ]
  },
  {
   "cell_type": "code",
   "execution_count": 4,
   "metadata": {},
   "outputs": [
    {
     "data": {
      "text/html": [
       "<div>\n",
       "<style scoped>\n",
       "    .dataframe tbody tr th:only-of-type {\n",
       "        vertical-align: middle;\n",
       "    }\n",
       "\n",
       "    .dataframe tbody tr th {\n",
       "        vertical-align: top;\n",
       "    }\n",
       "\n",
       "    .dataframe thead th {\n",
       "        text-align: right;\n",
       "    }\n",
       "</style>\n",
       "<table border=\"1\" class=\"dataframe\">\n",
       "  <thead>\n",
       "    <tr style=\"text-align: right;\">\n",
       "      <th></th>\n",
       "      <th>cust</th>\n",
       "      <th>segment</th>\n",
       "      <th>vertical</th>\n",
       "      <th>sub_vertical</th>\n",
       "      <th>country</th>\n",
       "      <th>bookings</th>\n",
       "      <th>purchase</th>\n",
       "    </tr>\n",
       "  </thead>\n",
       "  <tbody>\n",
       "    <tr>\n",
       "      <th>0</th>\n",
       "      <td>d66648938c68318a8dad17a77f0c8327</td>\n",
       "      <td>Commercial</td>\n",
       "      <td>Manufacturing</td>\n",
       "      <td>Hi-tech/Computers Manufacturing</td>\n",
       "      <td>UNITED STATES</td>\n",
       "      <td>103356</td>\n",
       "      <td>False</td>\n",
       "    </tr>\n",
       "    <tr>\n",
       "      <th>1</th>\n",
       "      <td>dcce1fa11f27a6a2c57c8aacf5f0219c</td>\n",
       "      <td>Commercial</td>\n",
       "      <td>Retail</td>\n",
       "      <td>Other (Retail)</td>\n",
       "      <td>UNITED STATES</td>\n",
       "      <td>62952</td>\n",
       "      <td>True</td>\n",
       "    </tr>\n",
       "    <tr>\n",
       "      <th>2</th>\n",
       "      <td>136b88d1b2aea8ae74cbfe111830af69</td>\n",
       "      <td>Commercial</td>\n",
       "      <td>Retail</td>\n",
       "      <td>Other (Retail)</td>\n",
       "      <td>ITALY</td>\n",
       "      <td>2886</td>\n",
       "      <td>True</td>\n",
       "    </tr>\n",
       "    <tr>\n",
       "      <th>3</th>\n",
       "      <td>674c6fcb90b5d29765f266007ad423e1</td>\n",
       "      <td>Enterprise</td>\n",
       "      <td>Retail</td>\n",
       "      <td>Other (Retail)</td>\n",
       "      <td>UNITED STATES</td>\n",
       "      <td>80253</td>\n",
       "      <td>True</td>\n",
       "    </tr>\n",
       "    <tr>\n",
       "      <th>4</th>\n",
       "      <td>97c72b3833ce8ef5154826fc128522b1</td>\n",
       "      <td>Commercial</td>\n",
       "      <td>Health Care</td>\n",
       "      <td>Providers</td>\n",
       "      <td>AUSTRALIA</td>\n",
       "      <td>29424</td>\n",
       "      <td>False</td>\n",
       "    </tr>\n",
       "    <tr>\n",
       "      <th>...</th>\n",
       "      <td>...</td>\n",
       "      <td>...</td>\n",
       "      <td>...</td>\n",
       "      <td>...</td>\n",
       "      <td>...</td>\n",
       "      <td>...</td>\n",
       "      <td>...</td>\n",
       "    </tr>\n",
       "    <tr>\n",
       "      <th>27338</th>\n",
       "      <td>d95a7c1779b6165d0302e8e191243239</td>\n",
       "      <td>Enterprise</td>\n",
       "      <td>Professional Services</td>\n",
       "      <td>Construction/Engineering</td>\n",
       "      <td>UNITED STATES</td>\n",
       "      <td>4142</td>\n",
       "      <td>True</td>\n",
       "    </tr>\n",
       "    <tr>\n",
       "      <th>27339</th>\n",
       "      <td>24113cecc9177b25a3d22c84f9d6ceec</td>\n",
       "      <td>Enterprise</td>\n",
       "      <td>Government</td>\n",
       "      <td>Federal/Central Government</td>\n",
       "      <td>CHINA</td>\n",
       "      <td>6233</td>\n",
       "      <td>False</td>\n",
       "    </tr>\n",
       "    <tr>\n",
       "      <th>27340</th>\n",
       "      <td>c082a0889baf15ce697b044914e3ed44</td>\n",
       "      <td>Enterprise</td>\n",
       "      <td>Manufacturing</td>\n",
       "      <td>Discrete Manufacturing</td>\n",
       "      <td>UNITED STATES</td>\n",
       "      <td>4003</td>\n",
       "      <td>False</td>\n",
       "    </tr>\n",
       "    <tr>\n",
       "      <th>27341</th>\n",
       "      <td>9a28b51f3f5d510a98c8b92446ea9a00</td>\n",
       "      <td>Commercial</td>\n",
       "      <td>Retail</td>\n",
       "      <td>Consumer Services(dry cleaners,video rental,etc)</td>\n",
       "      <td>UNITED STATES</td>\n",
       "      <td>1471</td>\n",
       "      <td>True</td>\n",
       "    </tr>\n",
       "    <tr>\n",
       "      <th>27342</th>\n",
       "      <td>a1425017639d721a421664ade535853c</td>\n",
       "      <td>Enterprise</td>\n",
       "      <td>Government</td>\n",
       "      <td>Federal/Central Government</td>\n",
       "      <td>JAPAN</td>\n",
       "      <td>33835</td>\n",
       "      <td>False</td>\n",
       "    </tr>\n",
       "  </tbody>\n",
       "</table>\n",
       "<p>27343 rows × 7 columns</p>\n",
       "</div>"
      ],
      "text/plain": [
       "                                   cust     segment               vertical  \\\n",
       "0      d66648938c68318a8dad17a77f0c8327  Commercial          Manufacturing   \n",
       "1      dcce1fa11f27a6a2c57c8aacf5f0219c  Commercial                 Retail   \n",
       "2      136b88d1b2aea8ae74cbfe111830af69  Commercial                 Retail   \n",
       "3      674c6fcb90b5d29765f266007ad423e1  Enterprise                 Retail   \n",
       "4      97c72b3833ce8ef5154826fc128522b1  Commercial            Health Care   \n",
       "...                                 ...         ...                    ...   \n",
       "27338  d95a7c1779b6165d0302e8e191243239  Enterprise  Professional Services   \n",
       "27339  24113cecc9177b25a3d22c84f9d6ceec  Enterprise             Government   \n",
       "27340  c082a0889baf15ce697b044914e3ed44  Enterprise          Manufacturing   \n",
       "27341  9a28b51f3f5d510a98c8b92446ea9a00  Commercial                 Retail   \n",
       "27342  a1425017639d721a421664ade535853c  Enterprise             Government   \n",
       "\n",
       "                                           sub_vertical        country  \\\n",
       "0                       Hi-tech/Computers Manufacturing  UNITED STATES   \n",
       "1                                        Other (Retail)  UNITED STATES   \n",
       "2                                        Other (Retail)          ITALY   \n",
       "3                                        Other (Retail)  UNITED STATES   \n",
       "4                                             Providers      AUSTRALIA   \n",
       "...                                                 ...            ...   \n",
       "27338                          Construction/Engineering  UNITED STATES   \n",
       "27339                        Federal/Central Government          CHINA   \n",
       "27340                            Discrete Manufacturing  UNITED STATES   \n",
       "27341  Consumer Services(dry cleaners,video rental,etc)  UNITED STATES   \n",
       "27342                        Federal/Central Government          JAPAN   \n",
       "\n",
       "      bookings  purchase  \n",
       "0       103356     False  \n",
       "1        62952      True  \n",
       "2         2886      True  \n",
       "3        80253      True  \n",
       "4        29424     False  \n",
       "...        ...       ...  \n",
       "27338     4142      True  \n",
       "27339     6233     False  \n",
       "27340     4003     False  \n",
       "27341     1471      True  \n",
       "27342    33835     False  \n",
       "\n",
       "[27343 rows x 7 columns]"
      ]
     },
     "execution_count": 4,
     "metadata": {},
     "output_type": "execute_result"
    }
   ],
   "source": [
    "#First look at the data\n",
    "data"
   ]
  },
  {
   "cell_type": "code",
   "execution_count": 5,
   "metadata": {},
   "outputs": [
    {
     "data": {
      "text/html": [
       "<div>\n",
       "<style scoped>\n",
       "    .dataframe tbody tr th:only-of-type {\n",
       "        vertical-align: middle;\n",
       "    }\n",
       "\n",
       "    .dataframe tbody tr th {\n",
       "        vertical-align: top;\n",
       "    }\n",
       "\n",
       "    .dataframe thead th {\n",
       "        text-align: right;\n",
       "    }\n",
       "</style>\n",
       "<table border=\"1\" class=\"dataframe\">\n",
       "  <thead>\n",
       "    <tr style=\"text-align: right;\">\n",
       "      <th></th>\n",
       "      <th>sub_vertical</th>\n",
       "      <th>country</th>\n",
       "      <th>bookings</th>\n",
       "      <th>purchase</th>\n",
       "    </tr>\n",
       "  </thead>\n",
       "  <tbody>\n",
       "    <tr>\n",
       "      <th>0</th>\n",
       "      <td>Hi-tech/Computers Manufacturing</td>\n",
       "      <td>UNITED STATES</td>\n",
       "      <td>103356</td>\n",
       "      <td>False</td>\n",
       "    </tr>\n",
       "    <tr>\n",
       "      <th>1</th>\n",
       "      <td>Other (Retail)</td>\n",
       "      <td>UNITED STATES</td>\n",
       "      <td>62952</td>\n",
       "      <td>True</td>\n",
       "    </tr>\n",
       "    <tr>\n",
       "      <th>2</th>\n",
       "      <td>Other (Retail)</td>\n",
       "      <td>ITALY</td>\n",
       "      <td>2886</td>\n",
       "      <td>True</td>\n",
       "    </tr>\n",
       "    <tr>\n",
       "      <th>3</th>\n",
       "      <td>Other (Retail)</td>\n",
       "      <td>UNITED STATES</td>\n",
       "      <td>80253</td>\n",
       "      <td>True</td>\n",
       "    </tr>\n",
       "    <tr>\n",
       "      <th>4</th>\n",
       "      <td>Providers</td>\n",
       "      <td>AUSTRALIA</td>\n",
       "      <td>29424</td>\n",
       "      <td>False</td>\n",
       "    </tr>\n",
       "    <tr>\n",
       "      <th>...</th>\n",
       "      <td>...</td>\n",
       "      <td>...</td>\n",
       "      <td>...</td>\n",
       "      <td>...</td>\n",
       "    </tr>\n",
       "    <tr>\n",
       "      <th>27338</th>\n",
       "      <td>Construction/Engineering</td>\n",
       "      <td>UNITED STATES</td>\n",
       "      <td>4142</td>\n",
       "      <td>True</td>\n",
       "    </tr>\n",
       "    <tr>\n",
       "      <th>27339</th>\n",
       "      <td>Federal/Central Government</td>\n",
       "      <td>CHINA</td>\n",
       "      <td>6233</td>\n",
       "      <td>False</td>\n",
       "    </tr>\n",
       "    <tr>\n",
       "      <th>27340</th>\n",
       "      <td>Discrete Manufacturing</td>\n",
       "      <td>UNITED STATES</td>\n",
       "      <td>4003</td>\n",
       "      <td>False</td>\n",
       "    </tr>\n",
       "    <tr>\n",
       "      <th>27341</th>\n",
       "      <td>Consumer Services(dry cleaners,video rental,etc)</td>\n",
       "      <td>UNITED STATES</td>\n",
       "      <td>1471</td>\n",
       "      <td>True</td>\n",
       "    </tr>\n",
       "    <tr>\n",
       "      <th>27342</th>\n",
       "      <td>Federal/Central Government</td>\n",
       "      <td>JAPAN</td>\n",
       "      <td>33835</td>\n",
       "      <td>False</td>\n",
       "    </tr>\n",
       "  </tbody>\n",
       "</table>\n",
       "<p>27343 rows × 4 columns</p>\n",
       "</div>"
      ],
      "text/plain": [
       "                                           sub_vertical        country  \\\n",
       "0                       Hi-tech/Computers Manufacturing  UNITED STATES   \n",
       "1                                        Other (Retail)  UNITED STATES   \n",
       "2                                        Other (Retail)          ITALY   \n",
       "3                                        Other (Retail)  UNITED STATES   \n",
       "4                                             Providers      AUSTRALIA   \n",
       "...                                                 ...            ...   \n",
       "27338                          Construction/Engineering  UNITED STATES   \n",
       "27339                        Federal/Central Government          CHINA   \n",
       "27340                            Discrete Manufacturing  UNITED STATES   \n",
       "27341  Consumer Services(dry cleaners,video rental,etc)  UNITED STATES   \n",
       "27342                        Federal/Central Government          JAPAN   \n",
       "\n",
       "      bookings  purchase  \n",
       "0       103356     False  \n",
       "1        62952      True  \n",
       "2         2886      True  \n",
       "3        80253      True  \n",
       "4        29424     False  \n",
       "...        ...       ...  \n",
       "27338     4142      True  \n",
       "27339     6233     False  \n",
       "27340     4003     False  \n",
       "27341     1471      True  \n",
       "27342    33835     False  \n",
       "\n",
       "[27343 rows x 4 columns]"
      ]
     },
     "execution_count": 5,
     "metadata": {},
     "output_type": "execute_result"
    }
   ],
   "source": [
    "#Removing cust column which is unique in each row and hence not useful for further analysis\n",
    "#Also, removing vertical and segment columns which seems to be redundant to sub_vertical\n",
    "data = data.drop(\"cust\", axis=1)\n",
    "data = data.drop(\"vertical\", axis=1)\n",
    "data = data.drop(\"segment\", axis=1)\n",
    "data"
   ]
  },
  {
   "cell_type": "code",
   "execution_count": 6,
   "metadata": {},
   "outputs": [
    {
     "data": {
      "text/plain": [
       "sub_vertical    False\n",
       "country         False\n",
       "bookings        False\n",
       "purchase        False\n",
       "dtype: bool"
      ]
     },
     "execution_count": 6,
     "metadata": {},
     "output_type": "execute_result"
    }
   ],
   "source": [
    "#Checking if there are any \"0\" values\n",
    "data.isnull().any()"
   ]
  },
  {
   "cell_type": "code",
   "execution_count": 7,
   "metadata": {},
   "outputs": [
    {
     "data": {
      "text/plain": [
       "Federal/Central Government                          3559\n",
       "Other (Technical Services)                          2816\n",
       "Other (Credit Card, mortgage, financing, etc.)      2573\n",
       "Other (Retail)                                      2472\n",
       "Wholesale/Distribution                              2384\n",
       "Other (Professional Services)                       1908\n",
       "Providers                                           1863\n",
       "Discrete Manufacturing                              1834\n",
       "Consumer Products Manufacturing                     1703\n",
       "Hi-tech/Computers Manufacturing                     1575\n",
       "Consulting Non-Technical                            1125\n",
       "Construction/Engineering                            1013\n",
       "Consumer Services(dry cleaners,video rental,etc)    1011\n",
       "Real Estate                                          785\n",
       "Membership organizations                             722\n",
       "Name: sub_vertical, dtype: int64"
      ]
     },
     "execution_count": 7,
     "metadata": {},
     "output_type": "execute_result"
    }
   ],
   "source": [
    "#Checking \"sub_vertical\" column\n",
    "data[\"sub_vertical\"].value_counts()"
   ]
  },
  {
   "cell_type": "code",
   "execution_count": 8,
   "metadata": {},
   "outputs": [
    {
     "data": {
      "text/plain": [
       "array(['Construction/Engineering', 'Consulting Non-Technical',\n",
       "       'Consumer Products Manufacturing',\n",
       "       'Consumer Services(dry cleaners,video rental,etc)',\n",
       "       'Discrete Manufacturing', 'Federal/Central Government',\n",
       "       'Hi-tech/Computers Manufacturing', 'Membership organizations',\n",
       "       'Other (Credit Card, mortgage, financing, etc.)',\n",
       "       'Other (Professional Services)', 'Other (Retail)',\n",
       "       'Other (Technical Services)', 'Providers', 'Real Estate',\n",
       "       'Wholesale/Distribution'], dtype=object)"
      ]
     },
     "execution_count": 8,
     "metadata": {},
     "output_type": "execute_result"
    }
   ],
   "source": [
    "#List of sub_vertical names\n",
    "data[\"sub_vertical\"].sort_values().unique()"
   ]
  },
  {
   "cell_type": "code",
   "execution_count": 9,
   "metadata": {},
   "outputs": [],
   "source": [
    "#Encoding \"sub_vertical\" column to prepare data for further analysis \n",
    "data[\"sub_vertical\"] = data[\"sub_vertical\"].astype(\"category\")\n",
    "sub_vertical_encode = LabelEncoder()\n",
    "data[\"sub_vertical\"] = sub_vertical_encode.fit_transform(data.sub_vertical)\n",
    "data\n",
    "sub_vertical_one_hot = OneHotEncoder()\n",
    "sub_vertical_one_hot_encode = sub_vertical_one_hot.fit_transform(data.sub_vertical.values.reshape(-1,1)).toarray()\n",
    "ohe_variable = pd.DataFrame(sub_vertical_one_hot_encode, columns = [\"sub_vertical_\" + str(int(i)) for i in range (sub_vertical_one_hot_encode.shape[1])])\n",
    "data = pd.concat([data, ohe_variable], axis=1)\n",
    "data = data.drop(\"sub_vertical\", axis=1)"
   ]
  },
  {
   "cell_type": "code",
   "execution_count": 10,
   "metadata": {},
   "outputs": [],
   "source": [
    "#Fixing different names for the same country issues\n",
    "def fix(column):\n",
    "    results = {}\n",
    "    results['column'] = column.name\n",
    "\n",
    "    #Replacing different names for the same country\n",
    "    country_column = []\n",
    "    for value in column:\n",
    "        if value == \"USA\":\n",
    "            country_column.append(\"UNITED STATES\")\n",
    "        elif value == \"DEUTSCHLAND\":\n",
    "            country_column.append(\"GERMANY\")\n",
    "        else:\n",
    "            country_column.append(value)\n",
    "\n",
    "    #Creating new column data with 'fixed' entries\n",
    "    results['data'] = country_column\n",
    "\n",
    "    return results  \n",
    "\n",
    "#Replacing data with new value\n",
    "temp_data = data.apply(fix)\n",
    "for m in temp_data:\n",
    "    data[m['column']] = m['data']"
   ]
  },
  {
   "cell_type": "code",
   "execution_count": 11,
   "metadata": {},
   "outputs": [
    {
     "data": {
      "text/plain": [
       "array(['AUSTRALIA', 'BRAZIL', 'CANADA', 'CHINA', 'FRANCE', 'GERMANY',\n",
       "       'INDIA', 'ITALY', 'JAPAN', 'MEXICO', 'UNITED KINGDOM',\n",
       "       'UNITED STATES'], dtype=object)"
      ]
     },
     "execution_count": 11,
     "metadata": {},
     "output_type": "execute_result"
    }
   ],
   "source": [
    "#List of countrie names\n",
    "data[\"country\"].sort_values().unique()"
   ]
  },
  {
   "cell_type": "code",
   "execution_count": 12,
   "metadata": {},
   "outputs": [],
   "source": [
    "#Encoding \"country\" column to prepare data for further analysis \n",
    "data[\"country\"] = data[\"country\"].astype(\"category\")\n",
    "country_encode = LabelEncoder()\n",
    "data[\"country\"] = country_encode.fit_transform(data.country)\n",
    "country_one_hot = OneHotEncoder()\n",
    "country_one_hot_encode = country_one_hot.fit_transform(data.country.values.reshape(-1,1)).toarray()\n",
    "ohe_variable = pd.DataFrame(country_one_hot_encode, columns = [\"country_\" + str(int(i)) for i in range (country_one_hot_encode.shape[1])])\n",
    "data = pd.concat([data, ohe_variable], axis=1)\n",
    "data = data.drop(\"country\", axis=1)"
   ]
  },
  {
   "cell_type": "code",
   "execution_count": 13,
   "metadata": {},
   "outputs": [],
   "source": [
    "#Replacing \"unknown\" and negative values with \"artifial\" value \"1010101\"\n",
    "def fix(column):\n",
    "    results = {}\n",
    "    results['column'] = column.name\n",
    "\n",
    "    fix_column = []\n",
    "    for value in column:\n",
    "        if value == \"unknown\":\n",
    "            fix_column.append(\"1010101\")\n",
    "        elif str(value).startswith(\"-\"):\n",
    "            fix_column.append(\"1010101\")\n",
    "        else:\n",
    "            fix_column.append(value)\n",
    "\n",
    "    #Creating new column data with 'fixed' entries\n",
    "    results['data'] = fix_column\n",
    "\n",
    "    return results  \n",
    "\n",
    "#Replacing data with new value\n",
    "temp_data = data.apply(fix)\n",
    "for m in temp_data:\n",
    "    data[m['column']] = m['data']"
   ]
  },
  {
   "cell_type": "code",
   "execution_count": 14,
   "metadata": {},
   "outputs": [],
   "source": [
    "#Fixing \"artifial\" 1010101\" in bookings \n",
    "def missing(column):\n",
    "    results = {}\n",
    "    results['column'] = column.name\n",
    "\n",
    "    #Step1 -  Removing \"1010101\" entries and calcualting median \n",
    "    s1_column = [x for x in column if x != 1010101]\n",
    "    results['removed_median'] = stat.median(s1_column)\n",
    "    \n",
    "    #Step2 - Replace \"1010101\" entries with (removed) median\n",
    "    s2_column = []\n",
    "    for value in column:\n",
    "        if value != 1010101:\n",
    "            s2_column.append(value)\n",
    "        else:\n",
    "            s2_column.append(results['removed_median'])\n",
    "\n",
    "    #Creating new column data with 'fixed' entries\n",
    "    results['data'] = s2_column\n",
    "\n",
    "    return results\n",
    "\n",
    "#Replace \"1010101\" data with mean value\n",
    "ds = data.astype({'bookings': 'int64'})\n",
    "missing_data = ds.select_dtypes(include=['float64', 'int64']).apply(missing)\n",
    "for m in missing_data:\n",
    "    ds[m['column']] = m['data']  \n",
    "    \n",
    "data = ds.astype({'bookings': 'float64'})    "
   ]
  },
  {
   "cell_type": "code",
   "execution_count": 15,
   "metadata": {},
   "outputs": [
    {
     "data": {
      "text/plain": [
       "purchase\n",
       "False    17743\n",
       "True      9600\n",
       "dtype: int64"
      ]
     },
     "execution_count": 15,
     "metadata": {},
     "output_type": "execute_result"
    }
   ],
   "source": [
    "data.groupby(\"purchase\").size()"
   ]
  },
  {
   "cell_type": "code",
   "execution_count": 16,
   "metadata": {},
   "outputs": [
    {
     "data": {
      "text/plain": [
       "array([False,  True])"
      ]
     },
     "execution_count": 16,
     "metadata": {},
     "output_type": "execute_result"
    }
   ],
   "source": [
    "#Purchase list booleans\n",
    "data[\"purchase\"].sort_values().unique()"
   ]
  },
  {
   "cell_type": "code",
   "execution_count": 17,
   "metadata": {},
   "outputs": [],
   "source": [
    "#Encoding \"purchase\" column to prepare data for further analysis \n",
    "data[\"purchase\"] = data[\"purchase\"].astype(\"category\")\n",
    "purchase_encode = LabelEncoder()\n",
    "data[\"purchase\"] = purchase_encode.fit_transform(data.purchase)"
   ]
  },
  {
   "cell_type": "code",
   "execution_count": 18,
   "metadata": {},
   "outputs": [
    {
     "data": {
      "text/html": [
       "<div>\n",
       "<style scoped>\n",
       "    .dataframe tbody tr th:only-of-type {\n",
       "        vertical-align: middle;\n",
       "    }\n",
       "\n",
       "    .dataframe tbody tr th {\n",
       "        vertical-align: top;\n",
       "    }\n",
       "\n",
       "    .dataframe thead th {\n",
       "        text-align: right;\n",
       "    }\n",
       "</style>\n",
       "<table border=\"1\" class=\"dataframe\">\n",
       "  <thead>\n",
       "    <tr style=\"text-align: right;\">\n",
       "      <th></th>\n",
       "      <th>bookings</th>\n",
       "      <th>purchase</th>\n",
       "      <th>sub_vertical_0</th>\n",
       "      <th>sub_vertical_1</th>\n",
       "      <th>sub_vertical_2</th>\n",
       "      <th>sub_vertical_3</th>\n",
       "      <th>sub_vertical_4</th>\n",
       "      <th>sub_vertical_5</th>\n",
       "      <th>sub_vertical_6</th>\n",
       "      <th>sub_vertical_7</th>\n",
       "      <th>...</th>\n",
       "      <th>country_2</th>\n",
       "      <th>country_3</th>\n",
       "      <th>country_4</th>\n",
       "      <th>country_5</th>\n",
       "      <th>country_6</th>\n",
       "      <th>country_7</th>\n",
       "      <th>country_8</th>\n",
       "      <th>country_9</th>\n",
       "      <th>country_10</th>\n",
       "      <th>country_11</th>\n",
       "    </tr>\n",
       "  </thead>\n",
       "  <tbody>\n",
       "    <tr>\n",
       "      <th>0</th>\n",
       "      <td>103356.0</td>\n",
       "      <td>0</td>\n",
       "      <td>0.0</td>\n",
       "      <td>0.0</td>\n",
       "      <td>0.0</td>\n",
       "      <td>0.0</td>\n",
       "      <td>0.0</td>\n",
       "      <td>0.0</td>\n",
       "      <td>1.0</td>\n",
       "      <td>0.0</td>\n",
       "      <td>...</td>\n",
       "      <td>0.0</td>\n",
       "      <td>0.0</td>\n",
       "      <td>0.0</td>\n",
       "      <td>0.0</td>\n",
       "      <td>0.0</td>\n",
       "      <td>0.0</td>\n",
       "      <td>0.0</td>\n",
       "      <td>0.0</td>\n",
       "      <td>0.0</td>\n",
       "      <td>1.0</td>\n",
       "    </tr>\n",
       "    <tr>\n",
       "      <th>1</th>\n",
       "      <td>62952.0</td>\n",
       "      <td>1</td>\n",
       "      <td>0.0</td>\n",
       "      <td>0.0</td>\n",
       "      <td>0.0</td>\n",
       "      <td>0.0</td>\n",
       "      <td>0.0</td>\n",
       "      <td>0.0</td>\n",
       "      <td>0.0</td>\n",
       "      <td>0.0</td>\n",
       "      <td>...</td>\n",
       "      <td>0.0</td>\n",
       "      <td>0.0</td>\n",
       "      <td>0.0</td>\n",
       "      <td>0.0</td>\n",
       "      <td>0.0</td>\n",
       "      <td>0.0</td>\n",
       "      <td>0.0</td>\n",
       "      <td>0.0</td>\n",
       "      <td>0.0</td>\n",
       "      <td>1.0</td>\n",
       "    </tr>\n",
       "    <tr>\n",
       "      <th>2</th>\n",
       "      <td>2886.0</td>\n",
       "      <td>1</td>\n",
       "      <td>0.0</td>\n",
       "      <td>0.0</td>\n",
       "      <td>0.0</td>\n",
       "      <td>0.0</td>\n",
       "      <td>0.0</td>\n",
       "      <td>0.0</td>\n",
       "      <td>0.0</td>\n",
       "      <td>0.0</td>\n",
       "      <td>...</td>\n",
       "      <td>0.0</td>\n",
       "      <td>0.0</td>\n",
       "      <td>0.0</td>\n",
       "      <td>0.0</td>\n",
       "      <td>0.0</td>\n",
       "      <td>1.0</td>\n",
       "      <td>0.0</td>\n",
       "      <td>0.0</td>\n",
       "      <td>0.0</td>\n",
       "      <td>0.0</td>\n",
       "    </tr>\n",
       "    <tr>\n",
       "      <th>3</th>\n",
       "      <td>80253.0</td>\n",
       "      <td>1</td>\n",
       "      <td>0.0</td>\n",
       "      <td>0.0</td>\n",
       "      <td>0.0</td>\n",
       "      <td>0.0</td>\n",
       "      <td>0.0</td>\n",
       "      <td>0.0</td>\n",
       "      <td>0.0</td>\n",
       "      <td>0.0</td>\n",
       "      <td>...</td>\n",
       "      <td>0.0</td>\n",
       "      <td>0.0</td>\n",
       "      <td>0.0</td>\n",
       "      <td>0.0</td>\n",
       "      <td>0.0</td>\n",
       "      <td>0.0</td>\n",
       "      <td>0.0</td>\n",
       "      <td>0.0</td>\n",
       "      <td>0.0</td>\n",
       "      <td>1.0</td>\n",
       "    </tr>\n",
       "    <tr>\n",
       "      <th>4</th>\n",
       "      <td>29424.0</td>\n",
       "      <td>0</td>\n",
       "      <td>0.0</td>\n",
       "      <td>0.0</td>\n",
       "      <td>0.0</td>\n",
       "      <td>0.0</td>\n",
       "      <td>0.0</td>\n",
       "      <td>0.0</td>\n",
       "      <td>0.0</td>\n",
       "      <td>0.0</td>\n",
       "      <td>...</td>\n",
       "      <td>0.0</td>\n",
       "      <td>0.0</td>\n",
       "      <td>0.0</td>\n",
       "      <td>0.0</td>\n",
       "      <td>0.0</td>\n",
       "      <td>0.0</td>\n",
       "      <td>0.0</td>\n",
       "      <td>0.0</td>\n",
       "      <td>0.0</td>\n",
       "      <td>0.0</td>\n",
       "    </tr>\n",
       "    <tr>\n",
       "      <th>...</th>\n",
       "      <td>...</td>\n",
       "      <td>...</td>\n",
       "      <td>...</td>\n",
       "      <td>...</td>\n",
       "      <td>...</td>\n",
       "      <td>...</td>\n",
       "      <td>...</td>\n",
       "      <td>...</td>\n",
       "      <td>...</td>\n",
       "      <td>...</td>\n",
       "      <td>...</td>\n",
       "      <td>...</td>\n",
       "      <td>...</td>\n",
       "      <td>...</td>\n",
       "      <td>...</td>\n",
       "      <td>...</td>\n",
       "      <td>...</td>\n",
       "      <td>...</td>\n",
       "      <td>...</td>\n",
       "      <td>...</td>\n",
       "      <td>...</td>\n",
       "    </tr>\n",
       "    <tr>\n",
       "      <th>27338</th>\n",
       "      <td>4142.0</td>\n",
       "      <td>1</td>\n",
       "      <td>1.0</td>\n",
       "      <td>0.0</td>\n",
       "      <td>0.0</td>\n",
       "      <td>0.0</td>\n",
       "      <td>0.0</td>\n",
       "      <td>0.0</td>\n",
       "      <td>0.0</td>\n",
       "      <td>0.0</td>\n",
       "      <td>...</td>\n",
       "      <td>0.0</td>\n",
       "      <td>0.0</td>\n",
       "      <td>0.0</td>\n",
       "      <td>0.0</td>\n",
       "      <td>0.0</td>\n",
       "      <td>0.0</td>\n",
       "      <td>0.0</td>\n",
       "      <td>0.0</td>\n",
       "      <td>0.0</td>\n",
       "      <td>1.0</td>\n",
       "    </tr>\n",
       "    <tr>\n",
       "      <th>27339</th>\n",
       "      <td>6233.0</td>\n",
       "      <td>0</td>\n",
       "      <td>0.0</td>\n",
       "      <td>0.0</td>\n",
       "      <td>0.0</td>\n",
       "      <td>0.0</td>\n",
       "      <td>0.0</td>\n",
       "      <td>1.0</td>\n",
       "      <td>0.0</td>\n",
       "      <td>0.0</td>\n",
       "      <td>...</td>\n",
       "      <td>0.0</td>\n",
       "      <td>1.0</td>\n",
       "      <td>0.0</td>\n",
       "      <td>0.0</td>\n",
       "      <td>0.0</td>\n",
       "      <td>0.0</td>\n",
       "      <td>0.0</td>\n",
       "      <td>0.0</td>\n",
       "      <td>0.0</td>\n",
       "      <td>0.0</td>\n",
       "    </tr>\n",
       "    <tr>\n",
       "      <th>27340</th>\n",
       "      <td>4003.0</td>\n",
       "      <td>0</td>\n",
       "      <td>0.0</td>\n",
       "      <td>0.0</td>\n",
       "      <td>0.0</td>\n",
       "      <td>0.0</td>\n",
       "      <td>1.0</td>\n",
       "      <td>0.0</td>\n",
       "      <td>0.0</td>\n",
       "      <td>0.0</td>\n",
       "      <td>...</td>\n",
       "      <td>0.0</td>\n",
       "      <td>0.0</td>\n",
       "      <td>0.0</td>\n",
       "      <td>0.0</td>\n",
       "      <td>0.0</td>\n",
       "      <td>0.0</td>\n",
       "      <td>0.0</td>\n",
       "      <td>0.0</td>\n",
       "      <td>0.0</td>\n",
       "      <td>1.0</td>\n",
       "    </tr>\n",
       "    <tr>\n",
       "      <th>27341</th>\n",
       "      <td>1471.0</td>\n",
       "      <td>1</td>\n",
       "      <td>0.0</td>\n",
       "      <td>0.0</td>\n",
       "      <td>0.0</td>\n",
       "      <td>1.0</td>\n",
       "      <td>0.0</td>\n",
       "      <td>0.0</td>\n",
       "      <td>0.0</td>\n",
       "      <td>0.0</td>\n",
       "      <td>...</td>\n",
       "      <td>0.0</td>\n",
       "      <td>0.0</td>\n",
       "      <td>0.0</td>\n",
       "      <td>0.0</td>\n",
       "      <td>0.0</td>\n",
       "      <td>0.0</td>\n",
       "      <td>0.0</td>\n",
       "      <td>0.0</td>\n",
       "      <td>0.0</td>\n",
       "      <td>1.0</td>\n",
       "    </tr>\n",
       "    <tr>\n",
       "      <th>27342</th>\n",
       "      <td>33835.0</td>\n",
       "      <td>0</td>\n",
       "      <td>0.0</td>\n",
       "      <td>0.0</td>\n",
       "      <td>0.0</td>\n",
       "      <td>0.0</td>\n",
       "      <td>0.0</td>\n",
       "      <td>1.0</td>\n",
       "      <td>0.0</td>\n",
       "      <td>0.0</td>\n",
       "      <td>...</td>\n",
       "      <td>0.0</td>\n",
       "      <td>0.0</td>\n",
       "      <td>0.0</td>\n",
       "      <td>0.0</td>\n",
       "      <td>0.0</td>\n",
       "      <td>0.0</td>\n",
       "      <td>1.0</td>\n",
       "      <td>0.0</td>\n",
       "      <td>0.0</td>\n",
       "      <td>0.0</td>\n",
       "    </tr>\n",
       "  </tbody>\n",
       "</table>\n",
       "<p>27343 rows × 29 columns</p>\n",
       "</div>"
      ],
      "text/plain": [
       "       bookings  purchase  sub_vertical_0  sub_vertical_1  sub_vertical_2  \\\n",
       "0      103356.0         0             0.0             0.0             0.0   \n",
       "1       62952.0         1             0.0             0.0             0.0   \n",
       "2        2886.0         1             0.0             0.0             0.0   \n",
       "3       80253.0         1             0.0             0.0             0.0   \n",
       "4       29424.0         0             0.0             0.0             0.0   \n",
       "...         ...       ...             ...             ...             ...   \n",
       "27338    4142.0         1             1.0             0.0             0.0   \n",
       "27339    6233.0         0             0.0             0.0             0.0   \n",
       "27340    4003.0         0             0.0             0.0             0.0   \n",
       "27341    1471.0         1             0.0             0.0             0.0   \n",
       "27342   33835.0         0             0.0             0.0             0.0   \n",
       "\n",
       "       sub_vertical_3  sub_vertical_4  sub_vertical_5  sub_vertical_6  \\\n",
       "0                 0.0             0.0             0.0             1.0   \n",
       "1                 0.0             0.0             0.0             0.0   \n",
       "2                 0.0             0.0             0.0             0.0   \n",
       "3                 0.0             0.0             0.0             0.0   \n",
       "4                 0.0             0.0             0.0             0.0   \n",
       "...               ...             ...             ...             ...   \n",
       "27338             0.0             0.0             0.0             0.0   \n",
       "27339             0.0             0.0             1.0             0.0   \n",
       "27340             0.0             1.0             0.0             0.0   \n",
       "27341             1.0             0.0             0.0             0.0   \n",
       "27342             0.0             0.0             1.0             0.0   \n",
       "\n",
       "       sub_vertical_7  ...  country_2  country_3  country_4  country_5  \\\n",
       "0                 0.0  ...        0.0        0.0        0.0        0.0   \n",
       "1                 0.0  ...        0.0        0.0        0.0        0.0   \n",
       "2                 0.0  ...        0.0        0.0        0.0        0.0   \n",
       "3                 0.0  ...        0.0        0.0        0.0        0.0   \n",
       "4                 0.0  ...        0.0        0.0        0.0        0.0   \n",
       "...               ...  ...        ...        ...        ...        ...   \n",
       "27338             0.0  ...        0.0        0.0        0.0        0.0   \n",
       "27339             0.0  ...        0.0        1.0        0.0        0.0   \n",
       "27340             0.0  ...        0.0        0.0        0.0        0.0   \n",
       "27341             0.0  ...        0.0        0.0        0.0        0.0   \n",
       "27342             0.0  ...        0.0        0.0        0.0        0.0   \n",
       "\n",
       "       country_6  country_7  country_8  country_9  country_10  country_11  \n",
       "0            0.0        0.0        0.0        0.0         0.0         1.0  \n",
       "1            0.0        0.0        0.0        0.0         0.0         1.0  \n",
       "2            0.0        1.0        0.0        0.0         0.0         0.0  \n",
       "3            0.0        0.0        0.0        0.0         0.0         1.0  \n",
       "4            0.0        0.0        0.0        0.0         0.0         0.0  \n",
       "...          ...        ...        ...        ...         ...         ...  \n",
       "27338        0.0        0.0        0.0        0.0         0.0         1.0  \n",
       "27339        0.0        0.0        0.0        0.0         0.0         0.0  \n",
       "27340        0.0        0.0        0.0        0.0         0.0         1.0  \n",
       "27341        0.0        0.0        0.0        0.0         0.0         1.0  \n",
       "27342        0.0        0.0        1.0        0.0         0.0         0.0  \n",
       "\n",
       "[27343 rows x 29 columns]"
      ]
     },
     "execution_count": 18,
     "metadata": {},
     "output_type": "execute_result"
    }
   ],
   "source": [
    "data"
   ]
  },
  {
   "cell_type": "code",
   "execution_count": 19,
   "metadata": {},
   "outputs": [
    {
     "data": {
      "image/png": "[encoded data removed]",
      "text/plain": [
       "<Figure size 432x288 with 2 Axes>"
      ]
     },
     "metadata": {
      "needs_background": "light"
     },
     "output_type": "display_data"
    }
   ],
   "source": [
    "data.corr(method='pearson')\n",
    "correlations = data.corr()\n",
    "fig = plt.figure() \n",
    "ax = fig.add_subplot(111) \n",
    "cax = ax.matshow(correlations, vmin=-1, vmax=1) \n",
    "fig.colorbar(cax) \n",
    "ticks = np.arange(0,9,1) \n",
    "ax.set_xticks(ticks) \n",
    "ax.set_yticks(ticks) \n",
    "plt.show()"
   ]
  },
  {
   "cell_type": "code",
   "execution_count": 20,
   "metadata": {},
   "outputs": [],
   "source": [
    "#Create feature and target for classification\n",
    "features = data.drop(\"purchase\", axis=1).values\n",
    "target = data[\"purchase\"].values"
   ]
  },
  {
   "cell_type": "code",
   "execution_count": 21,
   "metadata": {},
   "outputs": [],
   "source": [
    "#Split the data for training and testing sets\n",
    "X_train, X_test, y_train, y_test = train_test_split(features, target, test_size = 0.3, random_state = 42, stratify = target)"
   ]
  },
  {
   "cell_type": "code",
   "execution_count": 22,
   "metadata": {},
   "outputs": [],
   "source": [
    "#Trying different classifiers"
   ]
  },
  {
   "cell_type": "code",
   "execution_count": 23,
   "metadata": {},
   "outputs": [
    {
     "data": {
      "text/plain": [
       "0.6451298305497989"
      ]
     },
     "execution_count": 23,
     "metadata": {},
     "output_type": "execute_result"
    }
   ],
   "source": [
    "#Initializing the kNN classifier with 100 neighbors\n",
    "knn_classifier = KNeighborsClassifier(n_neighbors=100)\n",
    "\n",
    "#Fitting the kNN classifier on the training data\n",
    "knn_classifier.fit(X_train, y_train)\n",
    "\n",
    "#Extracting the accuracy score from the test sets for kNN classifiier\n",
    "knn_classifier.score(X_test, y_test)"
   ]
  },
  {
   "cell_type": "code",
   "execution_count": 24,
   "metadata": {},
   "outputs": [
    {
     "name": "stdout",
     "output_type": "stream",
     "text": [
      "[[5283   40]\n",
      " [2871    9]]\n"
     ]
    }
   ],
   "source": [
    "#Creating predictions on the test set \n",
    "prediction = knn_classifier.predict(X_test)\n",
    "\n",
    "#Creating the confusion matrix\n",
    "print(confusion_matrix(y_test, prediction))"
   ]
  },
  {
   "cell_type": "code",
   "execution_count": 25,
   "metadata": {},
   "outputs": [
    {
     "data": {
      "text/plain": [
       "0.6489089357552115"
      ]
     },
     "execution_count": 25,
     "metadata": {},
     "output_type": "execute_result"
    }
   ],
   "source": [
    "#Initializing an logistic regression object \n",
    "logistic_regression = linear_model.LogisticRegression()\n",
    "\n",
    "#Fitting the logistic regression model to the training and test sets\n",
    "logistic_regression.fit(X_train, y_train)\n",
    "\n",
    "#Accuracy score of the logistic regression model \n",
    "logistic_regression.score(X_test, y_test)"
   ]
  },
  {
   "cell_type": "code",
   "execution_count": 26,
   "metadata": {},
   "outputs": [
    {
     "name": "stdout",
     "output_type": "stream",
     "text": [
      "[[5323    0]\n",
      " [2880    0]]\n"
     ]
    }
   ],
   "source": [
    "#Creating predictions on the test set \n",
    "prediction = logistic_regression.predict(X_test)\n",
    "\n",
    "#Creating the confusion matrix\n",
    "print(confusion_matrix(y_test, prediction))"
   ]
  },
  {
   "cell_type": "code",
   "execution_count": 27,
   "metadata": {},
   "outputs": [
    {
     "data": {
      "text/plain": [
       "0.6489089357552115"
      ]
     },
     "execution_count": 27,
     "metadata": {},
     "output_type": "execute_result"
    }
   ],
   "source": [
    "#Initializing an NB classifier\n",
    "nb_classifier = GaussianNB()\n",
    "\n",
    "#Fitting the NB classifier into the training data\n",
    "nb_classifier.fit(X_train, y_train)\n",
    "\n",
    "#Extracting the accuracy score from the NB classifier\n",
    "nb_classifier.score(X_test, y_test)"
   ]
  },
  {
   "cell_type": "code",
   "execution_count": 28,
   "metadata": {},
   "outputs": [
    {
     "name": "stdout",
     "output_type": "stream",
     "text": [
      "[[5323    0]\n",
      " [2880    0]]\n"
     ]
    }
   ],
   "source": [
    "#Creating predictions on the test set \n",
    "prediction = nb_classifier.predict(X_test)\n",
    "\n",
    "#Creating the confusion matrix\n",
    "print(confusion_matrix(y_test, prediction))"
   ]
  },
  {
   "cell_type": "code",
   "execution_count": 29,
   "metadata": {},
   "outputs": [
    {
     "data": {
      "text/plain": [
       "0.5478483481653054"
      ]
     },
     "execution_count": 29,
     "metadata": {},
     "output_type": "execute_result"
    }
   ],
   "source": [
    "#Initializing the DT classifier\n",
    "dt = DecisionTreeClassifier(criterion = 'gini', random_state = 50)\n",
    "\n",
    "#Fitting on the training data\n",
    "dt.fit(X_train, y_train)\n",
    "\n",
    "#Testing accuracy on the test data\n",
    "dt.score(X_test, y_test)"
   ]
  },
  {
   "cell_type": "code",
   "execution_count": 30,
   "metadata": {},
   "outputs": [
    {
     "name": "stdout",
     "output_type": "stream",
     "text": [
      "[[3475 1848]\n",
      " [1861 1019]]\n"
     ]
    }
   ],
   "source": [
    "#Creating predictions on the test set \n",
    "prediction = dt.predict(X_test)\n",
    "\n",
    "#Creating the confusion matrix\n",
    "print(confusion_matrix(y_test, prediction))"
   ]
  },
  {
   "cell_type": "code",
   "execution_count": 31,
   "metadata": {},
   "outputs": [
    {
     "data": {
      "text/plain": [
       "0.5517493599902474"
      ]
     },
     "execution_count": 31,
     "metadata": {},
     "output_type": "execute_result"
    }
   ],
   "source": [
    "#Initiliazing an Random Forest Classifier with default parameters\n",
    "rf_classifier = RandomForestClassifier(random_state = 50)\n",
    "\n",
    "#Fitting the classifier on the training data\n",
    "rf_classifier.fit(X_train, y_train)\n",
    "\n",
    "#Extracting the scores\n",
    "rf_classifier.score(X_test, y_test)"
   ]
  },
  {
   "cell_type": "code",
   "execution_count": 32,
   "metadata": {},
   "outputs": [
    {
     "name": "stdout",
     "output_type": "stream",
     "text": [
      "[[3517 1806]\n",
      " [1871 1009]]\n"
     ]
    }
   ],
   "source": [
    "#Creating predictions on the test set \n",
    "prediction = rf_classifier.predict(X_test)\n",
    "\n",
    "#Creating the confusion matrix\n",
    "print(confusion_matrix(y_test, prediction))"
   ]
  },
  {
   "cell_type": "code",
   "execution_count": 33,
   "metadata": {},
   "outputs": [
    {
     "data": {
      "text/plain": [
       "0.649884188711447"
      ]
     },
     "execution_count": 33,
     "metadata": {},
     "output_type": "execute_result"
    }
   ],
   "source": [
    "#Initialize a tree (Decision Tree with max depth = 1)\n",
    "dt = DecisionTreeClassifier(max_depth=1, random_state = 42)\n",
    "\n",
    "#Initialize an AdaBoost classifier with the tree as the base estimator\n",
    "ada_boost = AdaBoostClassifier(base_estimator = dt, n_estimators=100)\n",
    "\n",
    "#Fitting the AdaBoost classifier to the training set\n",
    "ada_boost.fit(X_train, y_train)\n",
    "\n",
    "#Extracting the accuracy scores from the classifier\n",
    "ada_boost.score(X_test, y_test)\n"
   ]
  },
  {
   "cell_type": "code",
   "execution_count": 34,
   "metadata": {},
   "outputs": [
    {
     "name": "stdout",
     "output_type": "stream",
     "text": [
      "[[5276   47]\n",
      " [2825   55]]\n"
     ]
    }
   ],
   "source": [
    "#Creating predictions on the test set \n",
    "prediction = ada_boost.predict(X_test)\n",
    "\n",
    "#Creating the confusion matrix\n",
    "print(confusion_matrix(y_test, prediction))"
   ]
  },
  {
   "cell_type": "code",
   "execution_count": 35,
   "metadata": {},
   "outputs": [],
   "source": [
    "# [END]"
   ]
  }
 ],
 "metadata": {
  "kernelspec": {
   "display_name": "Python 3",
   "language": "python",
   "name": "python3"
  },
  "language_info": {
   "codemirror_mode": {
    "name": "ipython",
    "version": 3
   },
   "file_extension": ".py",
   "mimetype": "text/x-python",
   "name": "python",
   "nbconvert_exporter": "python",
   "pygments_lexer": "ipython3",
   "version": "3.8.2"
  }
 },
 "nbformat": 4,
 "nbformat_minor": 2
}
