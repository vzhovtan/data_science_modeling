{
 "cells": [
  {
   "cell_type": "code",
   "execution_count": null,
   "metadata": {},
   "outputs": [],
   "source": [
    "# Modeling exam\n",
    "# Vadim Zhovtanyuk\n",
    "# Cisco Systems, 2020"
   ]
  },
  {
   "cell_type": "code",
   "execution_count": null,
   "metadata": {},
   "outputs": [],
   "source": [
    "import numpy as np\n",
    "import pandas as pd\n",
    "import scipy.stats\n",
    "import statistics as stat\n",
    "from matplotlib import pyplot\n",
    "from sklearn.preprocessing import LabelEncoder\n",
    "from sklearn.preprocessing import OneHotEncoder\n",
    "from sklearn.feature_selection import SelectKBest \n",
    "from sklearn.feature_selection import chi2\n",
    "import sys"
   ]
  },
  {
   "cell_type": "code",
   "execution_count": null,
   "metadata": {},
   "outputs": [],
   "source": [
    "#Loading the data into pandas dataframe\n",
    "file = 'dnac-customer-bookings.csv'\n",
    "data = pd.read_csv(file, sep=',', header=0, parse_dates=True)"
   ]
  },
  {
   "cell_type": "code",
   "execution_count": null,
   "metadata": {},
   "outputs": [],
   "source": [
    "#First look at the data\n",
    "data"
   ]
  },
  {
   "cell_type": "code",
   "execution_count": null,
   "metadata": {},
   "outputs": [],
   "source": [
    "#Removing cust column which is unique in each row and hence not useful for further analysis\n",
    "data = data.drop(\"cust\", axis=1)"
   ]
  },
  {
   "cell_type": "code",
   "execution_count": null,
   "metadata": {},
   "outputs": [],
   "source": [
    "#Checking if there are any \"0\" values\n",
    "data.isnull().any()"
   ]
  },
  {
   "cell_type": "code",
   "execution_count": null,
   "metadata": {},
   "outputs": [],
   "source": [
    "#Checking \"segment\" column\n",
    "data[\"segment\"].value_counts()"
   ]
  },
  {
   "cell_type": "code",
   "execution_count": null,
   "metadata": {},
   "outputs": [],
   "source": [
    "#Fixing different names for the same segment\n",
    "def fix(column):\n",
    "    results = {}\n",
    "    results['column'] = column.name\n",
    "\n",
    "    #Replacing the \"wrong\" names\n",
    "    segment_column = []\n",
    "    for value in column:\n",
    "        if value == \"enterprise customer\":\n",
    "            segment_column.append(\"Enterprise\")\n",
    "        elif value == \"enterprise\":\n",
    "            segment_column.append(\"Enterprise\")\n",
    "        elif value == \"commercial\":\n",
    "            segment_column.append(\"Commercial\")\n",
    "        else:\n",
    "            segment_column.append(value)\n",
    "\n",
    "    #Creating new column data with 'fixed' entries\n",
    "    results['data'] = segment_column\n",
    "\n",
    "    return results\n",
    "\n",
    "#Replacing data with new value\n",
    "missing_data = data.apply(fix)\n",
    "for m in missing_data:\n",
    "    data[m['column']] = m['data']"
   ]
  },
  {
   "cell_type": "code",
   "execution_count": null,
   "metadata": {},
   "outputs": [],
   "source": [
    "#Verification of segment name\n",
    "data[\"segment\"].value_counts()"
   ]
  },
  {
   "cell_type": "code",
   "execution_count": null,
   "metadata": {},
   "outputs": [],
   "source": [
    "#List of segments\n",
    "segment_list = data['segment'].unique()\n",
    "segment_list"
   ]
  },
  {
   "cell_type": "code",
   "execution_count": null,
   "metadata": {},
   "outputs": [],
   "source": [
    "#Encoding segment column to prepare data for further analysis \n",
    "data[\"segment\"] = data[\"segment\"].astype(\"category\")\n",
    "segment_encode = LabelEncoder()\n",
    "data[\"segment\"] = segment_encode.fit_transform(data.segment)\n",
    "segment_one_hot = OneHotEncoder()\n",
    "segment_one_hot_encode = segment_one_hot.fit_transform(data.segment.values.reshape(-1,1)).toarray()\n",
    "ohe_variable = pd.DataFrame(segment_one_hot_encode, columns = [\"segment_\" + str(int(i)) for i in range (segment_one_hot_encode.shape[1])])\n",
    "data = pd.concat([data, ohe_variable], axis=1)\n",
    "data = data.drop(\"segment\", axis=1)"
   ]
  },
  {
   "cell_type": "code",
   "execution_count": null,
   "metadata": {},
   "outputs": [],
   "source": [
    "data"
   ]
  },
  {
   "cell_type": "code",
   "execution_count": null,
   "metadata": {},
   "outputs": [],
   "source": [
    "#Checking \"vertical\" column\n",
    "data['vertical'].value_counts()"
   ]
  },
  {
   "cell_type": "code",
   "execution_count": null,
   "metadata": {},
   "outputs": [],
   "source": [
    "#List of verticals\n",
    "vertical_list = data['vertical'].unique()\n",
    "vertical_list"
   ]
  },
  {
   "cell_type": "code",
   "execution_count": null,
   "metadata": {},
   "outputs": [],
   "source": [
    "#Encoding \"vertical\" column to prepare data for further analysis \n",
    "data[\"vertical\"] = data[\"vertical\"].astype(\"category\")\n",
    "vertical_encode = LabelEncoder()\n",
    "data[\"vertical\"] = vertical_encode.fit_transform(data.vertical)\n",
    "vertical_one_hot = OneHotEncoder()\n",
    "vertical_one_hot_encode = vertical_one_hot.fit_transform(data.vertical.values.reshape(-1,1)).toarray()\n",
    "ohe_variable = pd.DataFrame(vertical_one_hot_encode, columns = [\"vertical_\" + str(int(i)) for i in range (vertical_one_hot_encode.shape[1])])\n",
    "data = pd.concat([data, ohe_variable], axis=1)\n",
    "data = data.drop(\"vertical\", axis=1)"
   ]
  },
  {
   "cell_type": "code",
   "execution_count": null,
   "metadata": {},
   "outputs": [],
   "source": [
    "data"
   ]
  },
  {
   "cell_type": "code",
   "execution_count": null,
   "metadata": {},
   "outputs": [],
   "source": [
    "#Checking \"sub_vertical\" column\n",
    "data[\"sub_vertical\"].value_counts()"
   ]
  },
  {
   "cell_type": "code",
   "execution_count": null,
   "metadata": {},
   "outputs": [],
   "source": [
    "#List of sub_verticals\n",
    "subvertical_list = data[\"sub_vertical\"].unique()\n",
    "subvertical_list"
   ]
  },
  {
   "cell_type": "code",
   "execution_count": null,
   "metadata": {},
   "outputs": [],
   "source": [
    "#Encoding \"sub_vertical\" column to prepare data for further analysis \n",
    "data[\"sub_vertical\"] = data[\"sub_vertical\"].astype(\"category\")\n",
    "sub_vertical_encode = LabelEncoder()\n",
    "data[\"sub_vertical\"] = sub_vertical_encode.fit_transform(data.sub_vertical)\n",
    "sub_vertical_one_hot = OneHotEncoder()\n",
    "sub_vertical_one_hot_encode = sub_vertical_one_hot.fit_transform(data.sub_vertical.values.reshape(-1,1)).toarray()\n",
    "ohe_variable = pd.DataFrame(sub_vertical_one_hot_encode, columns = [\"sub_vertical_\" + str(int(i)) for i in range (sub_vertical_one_hot_encode.shape[1])])\n",
    "data = pd.concat([data, ohe_variable], axis=1)\n",
    "data = data.drop(\"sub_vertical\", axis=1)"
   ]
  },
  {
   "cell_type": "code",
   "execution_count": null,
   "metadata": {},
   "outputs": [],
   "source": [
    "data"
   ]
  },
  {
   "cell_type": "code",
   "execution_count": null,
   "metadata": {},
   "outputs": [],
   "source": [
    "#Checking \"country\" column\n",
    "data[\"country\"].value_counts()"
   ]
  },
  {
   "cell_type": "code",
   "execution_count": null,
   "metadata": {},
   "outputs": [],
   "source": [
    "#Fixing different names for the same country issues\n",
    "def fix(column):\n",
    "    results = {}\n",
    "    results['column'] = column.name\n",
    "\n",
    "    #Replacing different names for the same country\n",
    "    country_column = []\n",
    "    for value in column:\n",
    "        if value == \"USA\":\n",
    "            country_column.append(\"UNITED STATES\")\n",
    "        elif value == \"DEUTSCHLAND\":\n",
    "            country_column.append(\"GERMANY\")\n",
    "        else:\n",
    "            country_column.append(value)\n",
    "\n",
    "    #Creating new column data with 'fixed' entries\n",
    "    results['data'] = country_column\n",
    "\n",
    "    return results  \n",
    "\n",
    "#Replacing data with new value\n",
    "temp_data = data.apply(fix)\n",
    "for m in temp_data:\n",
    "    data[m['column']] = m['data']"
   ]
  },
  {
   "cell_type": "code",
   "execution_count": null,
   "metadata": {},
   "outputs": [],
   "source": [
    "#Verification of country names\n",
    "data[\"country\"].value_counts()"
   ]
  },
  {
   "cell_type": "code",
   "execution_count": null,
   "metadata": {},
   "outputs": [],
   "source": [
    "#List of countries\n",
    "country_list = data[\"country\"].unique()\n",
    "country_list"
   ]
  },
  {
   "cell_type": "code",
   "execution_count": null,
   "metadata": {},
   "outputs": [],
   "source": [
    "#Encoding \"country\" column to prepare data for further analysis \n",
    "data[\"country\"] = data[\"country\"].astype(\"category\")\n",
    "country_encode = LabelEncoder()\n",
    "data[\"country\"] = country_encode.fit_transform(data.country)\n",
    "country_one_hot = OneHotEncoder()\n",
    "country_one_hot_encode = country_one_hot.fit_transform(data.country.values.reshape(-1,1)).toarray()\n",
    "ohe_variable = pd.DataFrame(country_one_hot_encode, columns = [\"country_\" + str(int(i)) for i in range (country_one_hot_encode.shape[1])])\n",
    "data = pd.concat([data, ohe_variable], axis=1)\n",
    "data = data.drop(\"country\", axis=1)"
   ]
  },
  {
   "cell_type": "code",
   "execution_count": null,
   "metadata": {},
   "outputs": [],
   "source": [
    "data"
   ]
  },
  {
   "cell_type": "code",
   "execution_count": null,
   "metadata": {},
   "outputs": [],
   "source": [
    "#Checking \"bookings\"\n",
    "data[\"bookings\"].value_counts()"
   ]
  },
  {
   "cell_type": "code",
   "execution_count": null,
   "metadata": {},
   "outputs": [],
   "source": [
    "#Replacing \"unknown\" and negative values with pre-defined value \"1010101\"\n",
    "def fix(column):\n",
    "    results = {}\n",
    "    results['column'] = column.name\n",
    "\n",
    "    fix_column = []\n",
    "    for value in column:\n",
    "        if value == \"unknown\":\n",
    "            fix_column.append(\"1010101\")\n",
    "        elif str(value).startswith(\"-\"):\n",
    "            fix_column.append(\"1010101\")\n",
    "        else:\n",
    "            fix_column.append(value)\n",
    "\n",
    "    #Creating new column data with 'fixed' entries\n",
    "    results['data'] = fix_column\n",
    "\n",
    "    return results  \n",
    "\n",
    "#Replacing data with new value\n",
    "temp_data = data.apply(fix)\n",
    "for m in temp_data:\n",
    "    data[m['column']] = m['data']"
   ]
  },
  {
   "cell_type": "code",
   "execution_count": null,
   "metadata": {},
   "outputs": [],
   "source": [
    "#Verification of bookings values\n",
    "data[\"bookings\"].value_counts()"
   ]
  },
  {
   "cell_type": "code",
   "execution_count": null,
   "metadata": {},
   "outputs": [],
   "source": [
    "#Fixing wrong data in bookings \n",
    "def missing(column):\n",
    "    results = {}\n",
    "    results['column'] = column.name\n",
    "\n",
    "    #Step1 -  Removing wrong entries and calcualting median \n",
    "    s1_column = [x for x in column if x != 1010101]\n",
    "    results['removed_median'] = stat.median(s1_column)\n",
    "    \n",
    "    #Step2 - Replace wrong entries with (removed) median\n",
    "    s2_column = []\n",
    "    for value in column:\n",
    "        if value != 1010101:\n",
    "            s2_column.append(value)\n",
    "        else:\n",
    "            s2_column.append(results['removed_median'])\n",
    "\n",
    "    #Creating new column data with 'fixed' entries\n",
    "    results['data'] = s2_column\n",
    "\n",
    "    return results\n",
    "\n",
    "#Replace missing data with mean value\n",
    "ds = data.astype({'bookings': 'int64'})\n",
    "missing_data = ds.select_dtypes(include=['float64', 'int64']).apply(missing)\n",
    "for m in missing_data:\n",
    "    ds[m['column']] = m['data']  \n",
    "    \n",
    "data = ds.astype({'bookings': 'int64'})    "
   ]
  },
  {
   "cell_type": "code",
   "execution_count": null,
   "metadata": {},
   "outputs": [],
   "source": [
    "data"
   ]
  },
  {
   "cell_type": "code",
   "execution_count": null,
   "metadata": {},
   "outputs": [],
   "source": [
    "#Purchase list\n",
    "purchase_list = data[\"purchase\"].unique()\n",
    "purchase_list"
   ]
  },
  {
   "cell_type": "code",
   "execution_count": null,
   "metadata": {},
   "outputs": [],
   "source": [
    "#Encoding \"purchase\" column to prepare data for further analysis \n",
    "data[\"purchase\"] = data[\"purchase\"].astype(\"category\")\n",
    "purchase_encode = LabelEncoder()\n",
    "data[\"purchase\"] = purchase_encode.fit_transform(data.purchase)\n",
    "purchase_one_hot = OneHotEncoder()\n",
    "purchase_one_hot_encode = purchase_one_hot.fit_transform(data.purchase.values.reshape(-1,1)).toarray()\n",
    "ohe_variable = pd.DataFrame(purchase_one_hot_encode, columns = [\"purchase_\" + str(int(i)) for i in range (purchase_one_hot_encode.shape[1])])\n",
    "data = pd.concat([data, ohe_variable], axis=1)\n",
    "data = data.drop(\"purchase\", axis=1)"
   ]
  },
  {
   "cell_type": "code",
   "execution_count": null,
   "metadata": {},
   "outputs": [],
   "source": [
    "data"
   ]
  },
  {
   "cell_type": "code",
   "execution_count": null,
   "metadata": {},
   "outputs": [],
   "source": [
    "data.describe()"
   ]
  },
  {
   "cell_type": "code",
   "execution_count": null,
   "metadata": {},
   "outputs": [],
   "source": [
    "data.shape"
   ]
  },
  {
   "cell_type": "code",
   "execution_count": null,
   "metadata": {},
   "outputs": [],
   "source": [
    "data.dtypes"
   ]
  },
  {
   "cell_type": "code",
   "execution_count": null,
   "metadata": {},
   "outputs": [],
   "source": [
    "data.groupby(\"purchase\").size()"
   ]
  },
  {
   "cell_type": "code",
   "execution_count": null,
   "metadata": {},
   "outputs": [],
   "source": [
    "data.corr(method='pearson')"
   ]
  },
  {
   "cell_type": "code",
   "execution_count": null,
   "metadata": {},
   "outputs": [],
   "source": [
    "data.skew()"
   ]
  },
  {
   "cell_type": "code",
   "execution_count": null,
   "metadata": {},
   "outputs": [],
   "source": [
    "data[\"bookings\"].hist()\n",
    "pyplot.show()"
   ]
  },
  {
   "cell_type": "code",
   "execution_count": null,
   "metadata": {},
   "outputs": [],
   "source": [
    "correlations = data.corr()\n",
    "fig = pyplot.figure() \n",
    "ax = fig.add_subplot(111) \n",
    "cax = ax.matshow(correlations, vmin=-1, vmax=1) \n",
    "fig.colorbar(cax) \n",
    "ticks = np.arange(0,9,1) \n",
    "ax.set_xticks(ticks) \n",
    "ax.set_yticks(ticks) \n",
    "pyplot.show()"
   ]
  },
  {
   "cell_type": "code",
   "execution_count": null,
   "metadata": {},
   "outputs": [],
   "source": [
    "data"
   ]
  },
  {
   "cell_type": "code",
   "execution_count": null,
   "metadata": {},
   "outputs": [],
   "source": [
    "# [END]"
   ]
  }
 ],
 "metadata": {
  "kernelspec": {
   "display_name": "Python 3",
   "language": "python",
   "name": "python3"
  },
  "language_info": {
   "codemirror_mode": {
    "name": "ipython",
    "version": 3
   },
   "file_extension": ".py",
   "mimetype": "text/x-python",
   "name": "python",
   "nbconvert_exporter": "python",
   "pygments_lexer": "ipython3",
   "version": "3.8.2"
  }
 },
 "nbformat": 4,
 "nbformat_minor": 2
}
