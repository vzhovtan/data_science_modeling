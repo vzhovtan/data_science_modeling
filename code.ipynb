{
 "cells": [
  {
   "cell_type": "code",
   "execution_count": null,
   "metadata": {},
   "outputs": [],
   "source": [
    "# Modeling exam\n",
    "# Vadim Zhovtanyuk\n",
    "# Cisco Systems, 2020"
   ]
  },
  {
   "cell_type": "code",
   "execution_count": 1,
   "metadata": {},
   "outputs": [],
   "source": [
    "import numpy as np\n",
    "import pandas as pd\n",
    "import scipy.stats\n",
    "import statistics as stat\n",
    "from matplotlib import pyplot\n",
    "from sklearn import linear_model\n",
    "from sklearn.preprocessing import LabelEncoder\n",
    "from sklearn.preprocessing import OneHotEncoder\n",
    "from sklearn.model_selection import train_test_split\n",
    "from sklearn.model_selection import GridSearchCV\n",
    "from sklearn.neighbors import KNeighborsClassifier\n",
    "import sys"
   ]
  },
  {
   "cell_type": "code",
   "execution_count": 2,
   "metadata": {},
   "outputs": [],
   "source": [
    "#Loading the data into pandas dataframe\n",
    "file = 'dnac-customer-bookings.csv'\n",
    "data = pd.read_csv(file, sep=',', header=0, parse_dates=True)"
   ]
  },
  {
   "cell_type": "code",
   "execution_count": 3,
   "metadata": {},
   "outputs": [
    {
     "data": {
      "text/html": [
       "<div>\n",
       "<style scoped>\n",
       "    .dataframe tbody tr th:only-of-type {\n",
       "        vertical-align: middle;\n",
       "    }\n",
       "\n",
       "    .dataframe tbody tr th {\n",
       "        vertical-align: top;\n",
       "    }\n",
       "\n",
       "    .dataframe thead th {\n",
       "        text-align: right;\n",
       "    }\n",
       "</style>\n",
       "<table border=\"1\" class=\"dataframe\">\n",
       "  <thead>\n",
       "    <tr style=\"text-align: right;\">\n",
       "      <th></th>\n",
       "      <th>cust</th>\n",
       "      <th>segment</th>\n",
       "      <th>vertical</th>\n",
       "      <th>sub_vertical</th>\n",
       "      <th>country</th>\n",
       "      <th>bookings</th>\n",
       "      <th>purchase</th>\n",
       "    </tr>\n",
       "  </thead>\n",
       "  <tbody>\n",
       "    <tr>\n",
       "      <th>0</th>\n",
       "      <td>d66648938c68318a8dad17a77f0c8327</td>\n",
       "      <td>Commercial</td>\n",
       "      <td>Manufacturing</td>\n",
       "      <td>Hi-tech/Computers Manufacturing</td>\n",
       "      <td>UNITED STATES</td>\n",
       "      <td>103356</td>\n",
       "      <td>False</td>\n",
       "    </tr>\n",
       "    <tr>\n",
       "      <th>1</th>\n",
       "      <td>dcce1fa11f27a6a2c57c8aacf5f0219c</td>\n",
       "      <td>Commercial</td>\n",
       "      <td>Retail</td>\n",
       "      <td>Other (Retail)</td>\n",
       "      <td>UNITED STATES</td>\n",
       "      <td>62952</td>\n",
       "      <td>True</td>\n",
       "    </tr>\n",
       "    <tr>\n",
       "      <th>2</th>\n",
       "      <td>136b88d1b2aea8ae74cbfe111830af69</td>\n",
       "      <td>Commercial</td>\n",
       "      <td>Retail</td>\n",
       "      <td>Other (Retail)</td>\n",
       "      <td>ITALY</td>\n",
       "      <td>2886</td>\n",
       "      <td>True</td>\n",
       "    </tr>\n",
       "    <tr>\n",
       "      <th>3</th>\n",
       "      <td>674c6fcb90b5d29765f266007ad423e1</td>\n",
       "      <td>Enterprise</td>\n",
       "      <td>Retail</td>\n",
       "      <td>Other (Retail)</td>\n",
       "      <td>UNITED STATES</td>\n",
       "      <td>80253</td>\n",
       "      <td>True</td>\n",
       "    </tr>\n",
       "    <tr>\n",
       "      <th>4</th>\n",
       "      <td>97c72b3833ce8ef5154826fc128522b1</td>\n",
       "      <td>Commercial</td>\n",
       "      <td>Health Care</td>\n",
       "      <td>Providers</td>\n",
       "      <td>AUSTRALIA</td>\n",
       "      <td>29424</td>\n",
       "      <td>False</td>\n",
       "    </tr>\n",
       "  </tbody>\n",
       "</table>\n",
       "</div>"
      ],
      "text/plain": [
       "                               cust     segment       vertical  \\\n",
       "0  d66648938c68318a8dad17a77f0c8327  Commercial  Manufacturing   \n",
       "1  dcce1fa11f27a6a2c57c8aacf5f0219c  Commercial         Retail   \n",
       "2  136b88d1b2aea8ae74cbfe111830af69  Commercial         Retail   \n",
       "3  674c6fcb90b5d29765f266007ad423e1  Enterprise         Retail   \n",
       "4  97c72b3833ce8ef5154826fc128522b1  Commercial    Health Care   \n",
       "\n",
       "                      sub_vertical        country bookings  purchase  \n",
       "0  Hi-tech/Computers Manufacturing  UNITED STATES   103356     False  \n",
       "1                   Other (Retail)  UNITED STATES    62952      True  \n",
       "2                   Other (Retail)          ITALY     2886      True  \n",
       "3                   Other (Retail)  UNITED STATES    80253      True  \n",
       "4                        Providers      AUSTRALIA    29424     False  "
      ]
     },
     "execution_count": 3,
     "metadata": {},
     "output_type": "execute_result"
    }
   ],
   "source": [
    "#First look at the data\n",
    "data.head(5)"
   ]
  },
  {
   "cell_type": "code",
   "execution_count": 4,
   "metadata": {},
   "outputs": [],
   "source": [
    "#Removing cust column which is unique in each row and hence not useful for further analysis\n",
    "data = data.drop(\"cust\", axis=1)"
   ]
  },
  {
   "cell_type": "code",
   "execution_count": 5,
   "metadata": {},
   "outputs": [
    {
     "data": {
      "text/plain": [
       "segment         False\n",
       "vertical        False\n",
       "sub_vertical    False\n",
       "country         False\n",
       "bookings        False\n",
       "purchase        False\n",
       "dtype: bool"
      ]
     },
     "execution_count": 5,
     "metadata": {},
     "output_type": "execute_result"
    }
   ],
   "source": [
    "#Checking if there are any \"0\" values\n",
    "data.isnull().any()"
   ]
  },
  {
   "cell_type": "code",
   "execution_count": 6,
   "metadata": {},
   "outputs": [
    {
     "data": {
      "text/plain": [
       "Enterprise             16623\n",
       "Commercial             10471\n",
       "commercial               246\n",
       "enterprise                 2\n",
       "enterprise customer        1\n",
       "Name: segment, dtype: int64"
      ]
     },
     "execution_count": 6,
     "metadata": {},
     "output_type": "execute_result"
    }
   ],
   "source": [
    "#Checking \"segment\" column\n",
    "data[\"segment\"].value_counts()"
   ]
  },
  {
   "cell_type": "code",
   "execution_count": 7,
   "metadata": {},
   "outputs": [],
   "source": [
    "#Fixing different names for the same segment\n",
    "def fix(column):\n",
    "    results = {}\n",
    "    results['column'] = column.name\n",
    "\n",
    "    #Replacing the \"wrong\" names\n",
    "    segment_column = []\n",
    "    for value in column:\n",
    "        if value == \"enterprise customer\":\n",
    "            segment_column.append(\"Enterprise\")\n",
    "        elif value == \"enterprise\":\n",
    "            segment_column.append(\"Enterprise\")\n",
    "        elif value == \"commercial\":\n",
    "            segment_column.append(\"Commercial\")\n",
    "        else:\n",
    "            segment_column.append(value)\n",
    "\n",
    "    #Creating new column data with 'fixed' entries\n",
    "    results['data'] = segment_column\n",
    "\n",
    "    return results\n",
    "\n",
    "#Replacing data with new value\n",
    "missing_data = data.apply(fix)\n",
    "for m in missing_data:\n",
    "    data[m['column']] = m['data']"
   ]
  },
  {
   "cell_type": "code",
   "execution_count": 8,
   "metadata": {},
   "outputs": [
    {
     "data": {
      "text/plain": [
       "Enterprise    16626\n",
       "Commercial    10717\n",
       "Name: segment, dtype: int64"
      ]
     },
     "execution_count": 8,
     "metadata": {},
     "output_type": "execute_result"
    }
   ],
   "source": [
    "#Verification of segment name\n",
    "data[\"segment\"].value_counts()"
   ]
  },
  {
   "cell_type": "code",
   "execution_count": 9,
   "metadata": {},
   "outputs": [
    {
     "data": {
      "text/plain": [
       "array(['Commercial', 'Enterprise'], dtype=object)"
      ]
     },
     "execution_count": 9,
     "metadata": {},
     "output_type": "execute_result"
    }
   ],
   "source": [
    "#List of segment names\n",
    "data['segment'].sort_values().unique()"
   ]
  },
  {
   "cell_type": "code",
   "execution_count": 10,
   "metadata": {},
   "outputs": [],
   "source": [
    "#Encoding segment column to prepare data for further analysis \n",
    "data[\"segment\"] = data[\"segment\"].astype(\"category\")\n",
    "segment_encode = LabelEncoder()\n",
    "data[\"segment\"] = segment_encode.fit_transform(data.segment)\n",
    "segment_one_hot = OneHotEncoder()\n",
    "segment_one_hot_encode = segment_one_hot.fit_transform(data.segment.values.reshape(-1,1)).toarray()\n",
    "ohe_variable = pd.DataFrame(segment_one_hot_encode, columns = [\"segment_\" + str(int(i)) for i in range (segment_one_hot_encode.shape[1])])\n",
    "data = pd.concat([data, ohe_variable], axis=1)\n",
    "data = data.drop(\"segment\", axis=1)"
   ]
  },
  {
   "cell_type": "code",
   "execution_count": 11,
   "metadata": {},
   "outputs": [
    {
     "data": {
      "text/plain": [
       "Professional Services     5553\n",
       "Manufacturing             5112\n",
       "Government                3559\n",
       "Retail                    3483\n",
       "Technical Services        2816\n",
       "Financial Services        2573\n",
       "Wholesale/Distribution    2384\n",
       "Health Care               1863\n",
       "Name: vertical, dtype: int64"
      ]
     },
     "execution_count": 11,
     "metadata": {},
     "output_type": "execute_result"
    }
   ],
   "source": [
    "#Checking \"vertical\" column\n",
    "data['vertical'].value_counts()"
   ]
  },
  {
   "cell_type": "code",
   "execution_count": 12,
   "metadata": {},
   "outputs": [
    {
     "data": {
      "text/plain": [
       "array(['Financial Services', 'Government', 'Health Care', 'Manufacturing',\n",
       "       'Professional Services', 'Retail', 'Technical Services',\n",
       "       'Wholesale/Distribution'], dtype=object)"
      ]
     },
     "execution_count": 12,
     "metadata": {},
     "output_type": "execute_result"
    }
   ],
   "source": [
    "#List of vertical names\n",
    "data['vertical'].sort_values().unique()"
   ]
  },
  {
   "cell_type": "code",
   "execution_count": 13,
   "metadata": {},
   "outputs": [],
   "source": [
    "#Encoding \"vertical\" column to prepare data for further analysis \n",
    "data[\"vertical\"] = data[\"vertical\"].astype(\"category\")\n",
    "vertical_encode = LabelEncoder()\n",
    "data[\"vertical\"] = vertical_encode.fit_transform(data.vertical)\n",
    "vertical_one_hot = OneHotEncoder()\n",
    "vertical_one_hot_encode = vertical_one_hot.fit_transform(data.vertical.values.reshape(-1,1)).toarray()\n",
    "ohe_variable = pd.DataFrame(vertical_one_hot_encode, columns = [\"vertical_\" + str(int(i)) for i in range (vertical_one_hot_encode.shape[1])])\n",
    "data = pd.concat([data, ohe_variable], axis=1)\n",
    "data = data.drop(\"vertical\", axis=1)"
   ]
  },
  {
   "cell_type": "code",
   "execution_count": 14,
   "metadata": {},
   "outputs": [
    {
     "data": {
      "text/plain": [
       "Federal/Central Government                          3559\n",
       "Other (Technical Services)                          2816\n",
       "Other (Credit Card, mortgage, financing, etc.)      2573\n",
       "Other (Retail)                                      2472\n",
       "Wholesale/Distribution                              2384\n",
       "Other (Professional Services)                       1908\n",
       "Providers                                           1863\n",
       "Discrete Manufacturing                              1834\n",
       "Consumer Products Manufacturing                     1703\n",
       "Hi-tech/Computers Manufacturing                     1575\n",
       "Consulting Non-Technical                            1125\n",
       "Construction/Engineering                            1013\n",
       "Consumer Services(dry cleaners,video rental,etc)    1011\n",
       "Real Estate                                          785\n",
       "Membership organizations                             722\n",
       "Name: sub_vertical, dtype: int64"
      ]
     },
     "execution_count": 14,
     "metadata": {},
     "output_type": "execute_result"
    }
   ],
   "source": [
    "#Checking \"sub_vertical\" column\n",
    "data[\"sub_vertical\"].value_counts()"
   ]
  },
  {
   "cell_type": "code",
   "execution_count": 15,
   "metadata": {},
   "outputs": [
    {
     "data": {
      "text/plain": [
       "array(['Construction/Engineering', 'Consulting Non-Technical',\n",
       "       'Consumer Products Manufacturing',\n",
       "       'Consumer Services(dry cleaners,video rental,etc)',\n",
       "       'Discrete Manufacturing', 'Federal/Central Government',\n",
       "       'Hi-tech/Computers Manufacturing', 'Membership organizations',\n",
       "       'Other (Credit Card, mortgage, financing, etc.)',\n",
       "       'Other (Professional Services)', 'Other (Retail)',\n",
       "       'Other (Technical Services)', 'Providers', 'Real Estate',\n",
       "       'Wholesale/Distribution'], dtype=object)"
      ]
     },
     "execution_count": 15,
     "metadata": {},
     "output_type": "execute_result"
    }
   ],
   "source": [
    "#List of sub_vertical names\n",
    "data[\"sub_vertical\"].sort_values().unique()"
   ]
  },
  {
   "cell_type": "code",
   "execution_count": 16,
   "metadata": {},
   "outputs": [],
   "source": [
    "#Encoding \"sub_vertical\" column to prepare data for further analysis \n",
    "data[\"sub_vertical\"] = data[\"sub_vertical\"].astype(\"category\")\n",
    "sub_vertical_encode = LabelEncoder()\n",
    "data[\"sub_vertical\"] = sub_vertical_encode.fit_transform(data.sub_vertical)\n",
    "data\n",
    "sub_vertical_one_hot = OneHotEncoder()\n",
    "sub_vertical_one_hot_encode = sub_vertical_one_hot.fit_transform(data.sub_vertical.values.reshape(-1,1)).toarray()\n",
    "ohe_variable = pd.DataFrame(sub_vertical_one_hot_encode, columns = [\"sub_vertical_\" + str(int(i)) for i in range (sub_vertical_one_hot_encode.shape[1])])\n",
    "data = pd.concat([data, ohe_variable], axis=1)\n",
    "data = data.drop(\"sub_vertical\", axis=1)"
   ]
  },
  {
   "cell_type": "code",
   "execution_count": 17,
   "metadata": {},
   "outputs": [
    {
     "data": {
      "text/plain": [
       "UNITED STATES     13810\n",
       "UNITED KINGDOM     2246\n",
       "CHINA              1836\n",
       "GERMANY            1683\n",
       "CANADA             1277\n",
       "JAPAN              1228\n",
       "AUSTRALIA          1183\n",
       "FRANCE              983\n",
       "ITALY               787\n",
       "MEXICO              733\n",
       "INDIA               705\n",
       "BRAZIL              451\n",
       "USA                 347\n",
       "DEUTSCHLAND          74\n",
       "Name: country, dtype: int64"
      ]
     },
     "execution_count": 17,
     "metadata": {},
     "output_type": "execute_result"
    }
   ],
   "source": [
    "#Checking \"country\" column\n",
    "data[\"country\"].value_counts()"
   ]
  },
  {
   "cell_type": "code",
   "execution_count": 18,
   "metadata": {},
   "outputs": [],
   "source": [
    "#Fixing different names for the same country issues\n",
    "def fix(column):\n",
    "    results = {}\n",
    "    results['column'] = column.name\n",
    "\n",
    "    #Replacing different names for the same country\n",
    "    country_column = []\n",
    "    for value in column:\n",
    "        if value == \"USA\":\n",
    "            country_column.append(\"UNITED STATES\")\n",
    "        elif value == \"DEUTSCHLAND\":\n",
    "            country_column.append(\"GERMANY\")\n",
    "        else:\n",
    "            country_column.append(value)\n",
    "\n",
    "    #Creating new column data with 'fixed' entries\n",
    "    results['data'] = country_column\n",
    "\n",
    "    return results  \n",
    "\n",
    "#Replacing data with new value\n",
    "temp_data = data.apply(fix)\n",
    "for m in temp_data:\n",
    "    data[m['column']] = m['data']"
   ]
  },
  {
   "cell_type": "code",
   "execution_count": 19,
   "metadata": {},
   "outputs": [
    {
     "data": {
      "text/plain": [
       "UNITED STATES     14157\n",
       "UNITED KINGDOM     2246\n",
       "CHINA              1836\n",
       "GERMANY            1757\n",
       "CANADA             1277\n",
       "JAPAN              1228\n",
       "AUSTRALIA          1183\n",
       "FRANCE              983\n",
       "ITALY               787\n",
       "MEXICO              733\n",
       "INDIA               705\n",
       "BRAZIL              451\n",
       "Name: country, dtype: int64"
      ]
     },
     "execution_count": 19,
     "metadata": {},
     "output_type": "execute_result"
    }
   ],
   "source": [
    "#Verification of country names\n",
    "data[\"country\"].value_counts()"
   ]
  },
  {
   "cell_type": "code",
   "execution_count": 20,
   "metadata": {},
   "outputs": [
    {
     "data": {
      "text/plain": [
       "array(['AUSTRALIA', 'BRAZIL', 'CANADA', 'CHINA', 'FRANCE', 'GERMANY',\n",
       "       'INDIA', 'ITALY', 'JAPAN', 'MEXICO', 'UNITED KINGDOM',\n",
       "       'UNITED STATES'], dtype=object)"
      ]
     },
     "execution_count": 20,
     "metadata": {},
     "output_type": "execute_result"
    }
   ],
   "source": [
    "#List of countrie names\n",
    "data[\"country\"].sort_values().unique()"
   ]
  },
  {
   "cell_type": "code",
   "execution_count": 21,
   "metadata": {},
   "outputs": [],
   "source": [
    "#Encoding \"country\" column to prepare data for further analysis \n",
    "data[\"country\"] = data[\"country\"].astype(\"category\")\n",
    "country_encode = LabelEncoder()\n",
    "data[\"country\"] = country_encode.fit_transform(data.country)\n",
    "country_one_hot = OneHotEncoder()\n",
    "country_one_hot_encode = country_one_hot.fit_transform(data.country.values.reshape(-1,1)).toarray()\n",
    "ohe_variable = pd.DataFrame(country_one_hot_encode, columns = [\"country_\" + str(int(i)) for i in range (country_one_hot_encode.shape[1])])\n",
    "data = pd.concat([data, ohe_variable], axis=1)\n",
    "data = data.drop(\"country\", axis=1)"
   ]
  },
  {
   "cell_type": "code",
   "execution_count": 22,
   "metadata": {},
   "outputs": [
    {
     "data": {
      "text/plain": [
       "unknown    73\n",
       "2406        8\n",
       "2272        7\n",
       "2028        7\n",
       "1476        7\n",
       "           ..\n",
       "102593      1\n",
       "192458      1\n",
       "18208       1\n",
       "27961       1\n",
       "8300        1\n",
       "Name: bookings, Length: 22474, dtype: int64"
      ]
     },
     "execution_count": 22,
     "metadata": {},
     "output_type": "execute_result"
    }
   ],
   "source": [
    "#Checking \"bookings\"\n",
    "data[\"bookings\"].value_counts()"
   ]
  },
  {
   "cell_type": "code",
   "execution_count": 23,
   "metadata": {},
   "outputs": [],
   "source": [
    "#Replacing \"unknown\" and negative values with pre-defined value \"1010101\"\n",
    "def fix(column):\n",
    "    results = {}\n",
    "    results['column'] = column.name\n",
    "\n",
    "    fix_column = []\n",
    "    for value in column:\n",
    "        if value == \"unknown\":\n",
    "            fix_column.append(\"1010101\")\n",
    "        elif str(value).startswith(\"-\"):\n",
    "            fix_column.append(\"1010101\")\n",
    "        else:\n",
    "            fix_column.append(value)\n",
    "\n",
    "    #Creating new column data with 'fixed' entries\n",
    "    results['data'] = fix_column\n",
    "\n",
    "    return results  \n",
    "\n",
    "#Replacing data with new value\n",
    "temp_data = data.apply(fix)\n",
    "for m in temp_data:\n",
    "    data[m['column']] = m['data']"
   ]
  },
  {
   "cell_type": "code",
   "execution_count": 24,
   "metadata": {},
   "outputs": [
    {
     "data": {
      "text/plain": [
       "1010101    75\n",
       "2406        8\n",
       "1795        7\n",
       "1476        7\n",
       "2028        7\n",
       "           ..\n",
       "192458      1\n",
       "18208       1\n",
       "27961       1\n",
       "3094        1\n",
       "8300        1\n",
       "Name: bookings, Length: 22472, dtype: int64"
      ]
     },
     "execution_count": 24,
     "metadata": {},
     "output_type": "execute_result"
    }
   ],
   "source": [
    "#Verification of bookings values\n",
    "data[\"bookings\"].value_counts()"
   ]
  },
  {
   "cell_type": "code",
   "execution_count": 25,
   "metadata": {},
   "outputs": [],
   "source": [
    "#Fixing wrong data in bookings \n",
    "def missing(column):\n",
    "    results = {}\n",
    "    results['column'] = column.name\n",
    "\n",
    "    #Step1 -  Removing wrong entries and calcualting median \n",
    "    s1_column = [x for x in column if x != 1010101]\n",
    "    results['removed_median'] = stat.median(s1_column)\n",
    "    \n",
    "    #Step2 - Replace wrong entries with (removed) median\n",
    "    s2_column = []\n",
    "    for value in column:\n",
    "        if value != 1010101:\n",
    "            s2_column.append(value)\n",
    "        else:\n",
    "            s2_column.append(results['removed_median'])\n",
    "\n",
    "    #Creating new column data with 'fixed' entries\n",
    "    results['data'] = s2_column\n",
    "\n",
    "    return results\n",
    "\n",
    "#Replace missing data with mean value\n",
    "ds = data.astype({'bookings': 'int64'})\n",
    "missing_data = ds.select_dtypes(include=['float64', 'int64']).apply(missing)\n",
    "for m in missing_data:\n",
    "    ds[m['column']] = m['data']  \n",
    "    \n",
    "data = ds.astype({'bookings': 'int64'})    "
   ]
  },
  {
   "cell_type": "code",
   "execution_count": 26,
   "metadata": {},
   "outputs": [
    {
     "data": {
      "text/plain": [
       "purchase\n",
       "False    17743\n",
       "True      9600\n",
       "dtype: int64"
      ]
     },
     "execution_count": 26,
     "metadata": {},
     "output_type": "execute_result"
    }
   ],
   "source": [
    "data.groupby(\"purchase\").size()"
   ]
  },
  {
   "cell_type": "code",
   "execution_count": 27,
   "metadata": {},
   "outputs": [
    {
     "data": {
      "text/plain": [
       "array([False,  True])"
      ]
     },
     "execution_count": 27,
     "metadata": {},
     "output_type": "execute_result"
    }
   ],
   "source": [
    "#Purchase list booleans\n",
    "data[\"purchase\"].sort_values().unique()"
   ]
  },
  {
   "cell_type": "code",
   "execution_count": 28,
   "metadata": {},
   "outputs": [],
   "source": [
    "#Encoding \"purchase\" column to prepare data for further analysis \n",
    "data[\"purchase\"] = data[\"purchase\"].astype(\"category\")\n",
    "purchase_encode = LabelEncoder()\n",
    "data[\"purchase\"] = purchase_encode.fit_transform(data.purchase)"
   ]
  },
  {
   "cell_type": "code",
   "execution_count": 29,
   "metadata": {},
   "outputs": [
    {
     "data": {
      "text/html": [
       "<div>\n",
       "<style scoped>\n",
       "    .dataframe tbody tr th:only-of-type {\n",
       "        vertical-align: middle;\n",
       "    }\n",
       "\n",
       "    .dataframe tbody tr th {\n",
       "        vertical-align: top;\n",
       "    }\n",
       "\n",
       "    .dataframe thead th {\n",
       "        text-align: right;\n",
       "    }\n",
       "</style>\n",
       "<table border=\"1\" class=\"dataframe\">\n",
       "  <thead>\n",
       "    <tr style=\"text-align: right;\">\n",
       "      <th></th>\n",
       "      <th>bookings</th>\n",
       "      <th>purchase</th>\n",
       "      <th>segment_0</th>\n",
       "      <th>segment_1</th>\n",
       "      <th>vertical_0</th>\n",
       "      <th>vertical_1</th>\n",
       "      <th>vertical_2</th>\n",
       "      <th>vertical_3</th>\n",
       "      <th>vertical_4</th>\n",
       "      <th>vertical_5</th>\n",
       "      <th>...</th>\n",
       "      <th>country_2</th>\n",
       "      <th>country_3</th>\n",
       "      <th>country_4</th>\n",
       "      <th>country_5</th>\n",
       "      <th>country_6</th>\n",
       "      <th>country_7</th>\n",
       "      <th>country_8</th>\n",
       "      <th>country_9</th>\n",
       "      <th>country_10</th>\n",
       "      <th>country_11</th>\n",
       "    </tr>\n",
       "  </thead>\n",
       "  <tbody>\n",
       "    <tr>\n",
       "      <th>0</th>\n",
       "      <td>103356</td>\n",
       "      <td>0</td>\n",
       "      <td>1.0</td>\n",
       "      <td>0.0</td>\n",
       "      <td>0.0</td>\n",
       "      <td>0.0</td>\n",
       "      <td>0.0</td>\n",
       "      <td>1.0</td>\n",
       "      <td>0.0</td>\n",
       "      <td>0.0</td>\n",
       "      <td>...</td>\n",
       "      <td>0.0</td>\n",
       "      <td>0.0</td>\n",
       "      <td>0.0</td>\n",
       "      <td>0.0</td>\n",
       "      <td>0.0</td>\n",
       "      <td>0.0</td>\n",
       "      <td>0.0</td>\n",
       "      <td>0.0</td>\n",
       "      <td>0.0</td>\n",
       "      <td>1.0</td>\n",
       "    </tr>\n",
       "    <tr>\n",
       "      <th>1</th>\n",
       "      <td>62952</td>\n",
       "      <td>1</td>\n",
       "      <td>1.0</td>\n",
       "      <td>0.0</td>\n",
       "      <td>0.0</td>\n",
       "      <td>0.0</td>\n",
       "      <td>0.0</td>\n",
       "      <td>0.0</td>\n",
       "      <td>0.0</td>\n",
       "      <td>1.0</td>\n",
       "      <td>...</td>\n",
       "      <td>0.0</td>\n",
       "      <td>0.0</td>\n",
       "      <td>0.0</td>\n",
       "      <td>0.0</td>\n",
       "      <td>0.0</td>\n",
       "      <td>0.0</td>\n",
       "      <td>0.0</td>\n",
       "      <td>0.0</td>\n",
       "      <td>0.0</td>\n",
       "      <td>1.0</td>\n",
       "    </tr>\n",
       "    <tr>\n",
       "      <th>2</th>\n",
       "      <td>2886</td>\n",
       "      <td>1</td>\n",
       "      <td>1.0</td>\n",
       "      <td>0.0</td>\n",
       "      <td>0.0</td>\n",
       "      <td>0.0</td>\n",
       "      <td>0.0</td>\n",
       "      <td>0.0</td>\n",
       "      <td>0.0</td>\n",
       "      <td>1.0</td>\n",
       "      <td>...</td>\n",
       "      <td>0.0</td>\n",
       "      <td>0.0</td>\n",
       "      <td>0.0</td>\n",
       "      <td>0.0</td>\n",
       "      <td>0.0</td>\n",
       "      <td>1.0</td>\n",
       "      <td>0.0</td>\n",
       "      <td>0.0</td>\n",
       "      <td>0.0</td>\n",
       "      <td>0.0</td>\n",
       "    </tr>\n",
       "    <tr>\n",
       "      <th>3</th>\n",
       "      <td>80253</td>\n",
       "      <td>1</td>\n",
       "      <td>0.0</td>\n",
       "      <td>1.0</td>\n",
       "      <td>0.0</td>\n",
       "      <td>0.0</td>\n",
       "      <td>0.0</td>\n",
       "      <td>0.0</td>\n",
       "      <td>0.0</td>\n",
       "      <td>1.0</td>\n",
       "      <td>...</td>\n",
       "      <td>0.0</td>\n",
       "      <td>0.0</td>\n",
       "      <td>0.0</td>\n",
       "      <td>0.0</td>\n",
       "      <td>0.0</td>\n",
       "      <td>0.0</td>\n",
       "      <td>0.0</td>\n",
       "      <td>0.0</td>\n",
       "      <td>0.0</td>\n",
       "      <td>1.0</td>\n",
       "    </tr>\n",
       "    <tr>\n",
       "      <th>4</th>\n",
       "      <td>29424</td>\n",
       "      <td>0</td>\n",
       "      <td>1.0</td>\n",
       "      <td>0.0</td>\n",
       "      <td>0.0</td>\n",
       "      <td>0.0</td>\n",
       "      <td>1.0</td>\n",
       "      <td>0.0</td>\n",
       "      <td>0.0</td>\n",
       "      <td>0.0</td>\n",
       "      <td>...</td>\n",
       "      <td>0.0</td>\n",
       "      <td>0.0</td>\n",
       "      <td>0.0</td>\n",
       "      <td>0.0</td>\n",
       "      <td>0.0</td>\n",
       "      <td>0.0</td>\n",
       "      <td>0.0</td>\n",
       "      <td>0.0</td>\n",
       "      <td>0.0</td>\n",
       "      <td>0.0</td>\n",
       "    </tr>\n",
       "  </tbody>\n",
       "</table>\n",
       "<p>5 rows × 39 columns</p>\n",
       "</div>"
      ],
      "text/plain": [
       "   bookings  purchase  segment_0  segment_1  vertical_0  vertical_1  \\\n",
       "0    103356         0        1.0        0.0         0.0         0.0   \n",
       "1     62952         1        1.0        0.0         0.0         0.0   \n",
       "2      2886         1        1.0        0.0         0.0         0.0   \n",
       "3     80253         1        0.0        1.0         0.0         0.0   \n",
       "4     29424         0        1.0        0.0         0.0         0.0   \n",
       "\n",
       "   vertical_2  vertical_3  vertical_4  vertical_5  ...  country_2  country_3  \\\n",
       "0         0.0         1.0         0.0         0.0  ...        0.0        0.0   \n",
       "1         0.0         0.0         0.0         1.0  ...        0.0        0.0   \n",
       "2         0.0         0.0         0.0         1.0  ...        0.0        0.0   \n",
       "3         0.0         0.0         0.0         1.0  ...        0.0        0.0   \n",
       "4         1.0         0.0         0.0         0.0  ...        0.0        0.0   \n",
       "\n",
       "   country_4  country_5  country_6  country_7  country_8  country_9  \\\n",
       "0        0.0        0.0        0.0        0.0        0.0        0.0   \n",
       "1        0.0        0.0        0.0        0.0        0.0        0.0   \n",
       "2        0.0        0.0        0.0        1.0        0.0        0.0   \n",
       "3        0.0        0.0        0.0        0.0        0.0        0.0   \n",
       "4        0.0        0.0        0.0        0.0        0.0        0.0   \n",
       "\n",
       "   country_10  country_11  \n",
       "0         0.0         1.0  \n",
       "1         0.0         1.0  \n",
       "2         0.0         0.0  \n",
       "3         0.0         1.0  \n",
       "4         0.0         0.0  \n",
       "\n",
       "[5 rows x 39 columns]"
      ]
     },
     "execution_count": 29,
     "metadata": {},
     "output_type": "execute_result"
    }
   ],
   "source": [
    "data.head(5)"
   ]
  },
  {
   "cell_type": "code",
   "execution_count": null,
   "metadata": {},
   "outputs": [],
   "source": [
    "#data.dtypes\n",
    "#data.shape\n",
    "data.describe()"
   ]
  },
  {
   "cell_type": "code",
   "execution_count": null,
   "metadata": {},
   "outputs": [],
   "source": [
    "data.corr(method='pearson')\n",
    "correlations = data.corr()\n",
    "fig = pyplot.figure() \n",
    "ax = fig.add_subplot(111) \n",
    "cax = ax.matshow(correlations, vmin=-1, vmax=1) \n",
    "fig.colorbar(cax) \n",
    "ticks = np.arange(0,9,1) \n",
    "ax.set_xticks(ticks) \n",
    "ax.set_yticks(ticks) \n",
    "pyplot.show()"
   ]
  },
  {
   "cell_type": "code",
   "execution_count": null,
   "metadata": {},
   "outputs": [],
   "source": [
    "data.skew()"
   ]
  },
  {
   "cell_type": "code",
   "execution_count": 30,
   "metadata": {},
   "outputs": [],
   "source": [
    "#Create feature and target for classification\n",
    "features = data.drop(\"purchase\", axis=1).values\n",
    "target = data[\"purchase\"].values"
   ]
  },
  {
   "cell_type": "code",
   "execution_count": 31,
   "metadata": {},
   "outputs": [],
   "source": [
    "#Split the data for training and testing sets\n",
    "X_train, X_test, y_train, y_test = train_test_split(features, target, test_size = 0.3, random_state = 42, stratify = target)"
   ]
  },
  {
   "cell_type": "code",
   "execution_count": 35,
   "metadata": {},
   "outputs": [],
   "source": [
    "#Initializing the kNN classifier with X neighbors\n",
    "#Played from 3 to 100 and the improvment form 50 to 100 is small so left 50\n",
    "knn_classifier = KNeighborsClassifier(n_neighbors=100)"
   ]
  },
  {
   "cell_type": "code",
   "execution_count": 36,
   "metadata": {},
   "outputs": [
    {
     "data": {
      "text/plain": [
       "KNeighborsClassifier(algorithm='auto', leaf_size=30, metric='minkowski',\n",
       "                     metric_params=None, n_jobs=None, n_neighbors=100, p=2,\n",
       "                     weights='uniform')"
      ]
     },
     "execution_count": 36,
     "metadata": {},
     "output_type": "execute_result"
    }
   ],
   "source": [
    "#Fitting the kNN classifier on the training data\n",
    "knn_classifier.fit(X_train, y_train) "
   ]
  },
  {
   "cell_type": "code",
   "execution_count": 37,
   "metadata": {},
   "outputs": [
    {
     "data": {
      "text/plain": [
       "0.6450079239302694"
      ]
     },
     "execution_count": 37,
     "metadata": {},
     "output_type": "execute_result"
    }
   ],
   "source": [
    "#Extracting the accuracy score from the test sets for kNN classifiier\n",
    "knn_classifier.score(X_test, y_test)"
   ]
  },
  {
   "cell_type": "code",
   "execution_count": 38,
   "metadata": {},
   "outputs": [],
   "source": [
    "#Initializing an logistic regression object \n",
    "logistic_regression = linear_model.LogisticRegression()"
   ]
  },
  {
   "cell_type": "code",
   "execution_count": 39,
   "metadata": {},
   "outputs": [
    {
     "data": {
      "text/plain": [
       "LogisticRegression(C=1.0, class_weight=None, dual=False, fit_intercept=True,\n",
       "                   intercept_scaling=1, l1_ratio=None, max_iter=100,\n",
       "                   multi_class='auto', n_jobs=None, penalty='l2',\n",
       "                   random_state=None, solver='lbfgs', tol=0.0001, verbose=0,\n",
       "                   warm_start=False)"
      ]
     },
     "execution_count": 39,
     "metadata": {},
     "output_type": "execute_result"
    }
   ],
   "source": [
    "#Fitting the model to the training and test sets\n",
    "logistic_regression.fit(X_train, y_train)"
   ]
  },
  {
   "cell_type": "code",
   "execution_count": 40,
   "metadata": {},
   "outputs": [
    {
     "data": {
      "text/plain": [
       "0.6489089357552115"
      ]
     },
     "execution_count": 40,
     "metadata": {},
     "output_type": "execute_result"
    }
   ],
   "source": [
    "#Accuracy score of the logistic regression model \n",
    "logistic_regression.score(X_test, y_test)"
   ]
  },
  {
   "cell_type": "code",
   "execution_count": 43,
   "metadata": {},
   "outputs": [],
   "source": [
    "#Building the model with L1 penality\n",
    "logistic_regression = linear_model.LogisticRegression(penalty='l2')"
   ]
  },
  {
   "cell_type": "code",
   "execution_count": 49,
   "metadata": {},
   "outputs": [
    {
     "data": {
      "text/plain": [
       "GridSearchCV(cv=None, error_score=nan,\n",
       "             estimator=LogisticRegression(C=0.0001, class_weight=None,\n",
       "                                          dual=False, fit_intercept=True,\n",
       "                                          intercept_scaling=1, l1_ratio=None,\n",
       "                                          max_iter=100, multi_class='auto',\n",
       "                                          n_jobs=None, penalty='l2',\n",
       "                                          random_state=None, solver='lbfgs',\n",
       "                                          tol=0.0001, verbose=0,\n",
       "                                          warm_start=False),\n",
       "             iid='deprecated', n_jobs=None,\n",
       "             param_grid={'C': [1e-05, 0.0001, 0.001, 0.01, 0.1, 1, 10, 100]},\n",
       "             pre_dispatch='2*n_jobs', refit=True, return_train_score=False,\n",
       "             scoring=None, verbose=0)"
      ]
     },
     "execution_count": 49,
     "metadata": {},
     "output_type": "execute_result"
    }
   ],
   "source": [
    "#Using GridSearchCV to search for the best parameter\n",
    "grid = GridSearchCV(logistic_regression, {'C':[0.00001, 0.0001, 0.001, 0.01, 0.1, 1, 10, 100]})\n",
    "grid.fit(X_train, y_train)"
   ]
  },
  {
   "cell_type": "code",
   "execution_count": 50,
   "metadata": {},
   "outputs": [
    {
     "data": {
      "text/plain": [
       "{'C': 1e-05}"
      ]
     },
     "execution_count": 50,
     "metadata": {},
     "output_type": "execute_result"
    }
   ],
   "source": [
    "#Print out the best parameter\n",
    "grid.best_params_"
   ]
  },
  {
   "cell_type": "code",
   "execution_count": 54,
   "metadata": {},
   "outputs": [],
   "source": [
    "#Initializing an logistic regression object\n",
    "logistic_regression = linear_model.LogisticRegression(C = 1e-05, penalty='l2')"
   ]
  },
  {
   "cell_type": "code",
   "execution_count": 55,
   "metadata": {},
   "outputs": [
    {
     "data": {
      "text/plain": [
       "LogisticRegression(C=1e-05, class_weight=None, dual=False, fit_intercept=True,\n",
       "                   intercept_scaling=1, l1_ratio=None, max_iter=100,\n",
       "                   multi_class='auto', n_jobs=None, penalty='l2',\n",
       "                   random_state=None, solver='lbfgs', tol=0.0001, verbose=0,\n",
       "                   warm_start=False)"
      ]
     },
     "execution_count": 55,
     "metadata": {},
     "output_type": "execute_result"
    }
   ],
   "source": [
    "#Fitting the model to the training and test sets \n",
    "logistic_regression.fit(X_train, y_train)"
   ]
  },
  {
   "cell_type": "code",
   "execution_count": 58,
   "metadata": {},
   "outputs": [
    {
     "data": {
      "text/plain": [
       "0.6489089357552115"
      ]
     },
     "execution_count": 58,
     "metadata": {},
     "output_type": "execute_result"
    }
   ],
   "source": [
    "#Accuracy score of the logistic regression model\n",
    "logistic_regression.score(X_test, y_test)"
   ]
  },
  {
   "cell_type": "code",
   "execution_count": 60,
   "metadata": {},
   "outputs": [
    {
     "data": {
      "text/plain": [
       "array([0, 1, 1, ..., 0, 1, 0])"
      ]
     },
     "execution_count": 60,
     "metadata": {},
     "output_type": "execute_result"
    }
   ],
   "source": [
    "target"
   ]
  },
  {
   "cell_type": "code",
   "execution_count": null,
   "metadata": {},
   "outputs": [],
   "source": [
    "# [END]"
   ]
  }
 ],
 "metadata": {
  "kernelspec": {
   "display_name": "Python 3",
   "language": "python",
   "name": "python3"
  },
  "language_info": {
   "codemirror_mode": {
    "name": "ipython",
    "version": 3
   },
   "file_extension": ".py",
   "mimetype": "text/x-python",
   "name": "python",
   "nbconvert_exporter": "python",
   "pygments_lexer": "ipython3",
   "version": "3.8.2"
  }
 },
 "nbformat": 4,
 "nbformat_minor": 2
}
